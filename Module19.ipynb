{
  "nbformat": 4,
  "nbformat_minor": 0,
  "metadata": {
    "colab": {
      "provenance": [],
      "include_colab_link": true
    },
    "kernelspec": {
      "name": "python3",
      "display_name": "Python 3"
    },
    "language_info": {
      "name": "python"
    }
  },
  "cells": [
    {
      "cell_type": "markdown",
      "metadata": {
        "id": "view-in-github",
        "colab_type": "text"
      },
      "source": [
        "<a href=\"https://colab.research.google.com/github/Ninja-draw-coder/PythonProjects/blob/main/Module19.ipynb\" target=\"_parent\"><img src=\"https://colab.research.google.com/assets/colab-badge.svg\" alt=\"Open In Colab\"/></a>"
      ]
    },
    {
      "cell_type": "code",
      "execution_count": null,
      "metadata": {
        "colab": {
          "base_uri": "https://localhost:8080/"
        },
        "id": "54m6hSTAqOlv",
        "outputId": "c359338f-97a1-4d74-e698-6a7f046cc0dd"
      },
      "outputs": [
        {
          "output_type": "stream",
          "name": "stdout",
          "text": [
            "Probability of Ace then Heart (with replacemnet) : 0.01927\n",
            "Probability of Ace or Heart (with replacemnet) : 0.30592\n",
            "Probability of Two Aces (without replacemnet) : 0.00436\n"
          ]
        }
      ],
      "source": [
        "import random\n",
        "\n",
        "suits = ['Hearts','Diamonds','Spades','Clubs']\n",
        "ranks = ['Two','Three','Four','Five','Six','Seven','Eight','Nine','Ten','Jack','Queen','King','Ace']\n",
        "deck = [rank + ' of '+ suit for suit in suits for rank in ranks]\n",
        "\n",
        "def is_ace(card):\n",
        "  return 'Ace' in card\n",
        "\n",
        "def is_heart(card):\n",
        "  return 'Hearts' in card\n",
        "\n",
        "\n",
        "trials = 100000\n",
        "count_ace_then_heart = 0\n",
        "count_ace_or_heart = 0\n",
        "count_two_aces_no_replace = 0\n",
        "\n",
        "for _ in range(trials):\n",
        "  card1 = random.choice(deck)\n",
        "  card2 = random.choice(deck)\n",
        "\n",
        "  if is_ace(card1) and is_heart(card2):\n",
        "    count_ace_then_heart += 1\n",
        "\n",
        "  if is_ace(card1) or is_heart(card2):\n",
        "    count_ace_or_heart += 1\n",
        "\n",
        "  #without replacement\n",
        "  deck_copy = deck.copy()\n",
        "  card1 = random.choice(deck_copy)\n",
        "  deck_copy.remove(card1)\n",
        "\n",
        "  card2 = random.choice(deck_copy)\n",
        "\n",
        "  if is_ace(card1) and is_ace(card2):\n",
        "    count_two_aces_no_replace += 1\n",
        "\n",
        "\n",
        "print(f'Probability of Ace then Heart (with replacemnet) : {count_ace_then_heart/trials}')\n",
        "print(f'Probability of Ace or Heart (with replacemnet) : {count_ace_or_heart/trials}')\n",
        "print(f'Probability of Two Aces (without replacemnet) : {count_two_aces_no_replace/trials}')"
      ]
    },
    {
      "cell_type": "code",
      "source": [],
      "metadata": {
        "id": "RC4-x5H4stM9"
      },
      "execution_count": null,
      "outputs": []
    }
  ]
}