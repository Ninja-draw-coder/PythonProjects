{
  "cells": [
    {
      "cell_type": "markdown",
      "metadata": {
        "id": "view-in-github",
        "colab_type": "text"
      },
      "source": [
        "<a href=\"https://colab.research.google.com/github/Ninja-draw-coder/PythonProjects/blob/main/Module2.ipynb\" target=\"_parent\"><img src=\"https://colab.research.google.com/assets/colab-badge.svg\" alt=\"Open In Colab\"/></a>"
      ]
    },
    {
      "cell_type": "code",
      "execution_count": null,
      "id": "838f767b-9b65-405e-9041-8b3955fdf72a",
      "metadata": {
        "id": "838f767b-9b65-405e-9041-8b3955fdf72a",
        "outputId": "7f5000f8-e4d1-477e-80df-31616fe83f88"
      },
      "outputs": [
        {
          "name": "stdin",
          "output_type": "stream",
          "text": [
            "enter numbers 12,34,56\n"
          ]
        }
      ],
      "source": [
        "a = map(int,input(\"enter numbers\").split(','))"
      ]
    },
    {
      "cell_type": "code",
      "execution_count": null,
      "id": "e0426936-07b1-47f8-aca0-f6284268371a",
      "metadata": {
        "id": "e0426936-07b1-47f8-aca0-f6284268371a",
        "outputId": "11295abe-c04a-4a78-c9b6-783a1031476a"
      },
      "outputs": [
        {
          "name": "stdout",
          "output_type": "stream",
          "text": [
            "[12, 34, 56]\n"
          ]
        }
      ],
      "source": [
        "a = list(a)\n",
        "print(a)"
      ]
    },
    {
      "cell_type": "code",
      "execution_count": null,
      "id": "3be96c48-a40d-4953-a8e8-0708d54c157e",
      "metadata": {
        "id": "3be96c48-a40d-4953-a8e8-0708d54c157e",
        "outputId": "405e2927-600e-42a6-9931-7a1cd13499cb"
      },
      "outputs": [
        {
          "name": "stdout",
          "output_type": "stream",
          "text": [
            "[12, 34, 56, 3, 4, 5, 6]\n"
          ]
        }
      ],
      "source": [
        "b = [3,4,5,6]\n",
        "a.extend(b)\n",
        "print(a)"
      ]
    },
    {
      "cell_type": "code",
      "execution_count": null,
      "id": "25735d2f-0625-4809-a473-a94bad393f24",
      "metadata": {
        "id": "25735d2f-0625-4809-a473-a94bad393f24",
        "outputId": "42ad0189-f7c5-4343-f6f9-069366bda0fc"
      },
      "outputs": [
        {
          "name": "stdout",
          "output_type": "stream",
          "text": [
            "[12, 34, 56]\n"
          ]
        }
      ],
      "source": [
        "print(a[0:3])"
      ]
    },
    {
      "cell_type": "code",
      "execution_count": null,
      "id": "04da59b9-7595-440b-b96a-1d72ed3906d7",
      "metadata": {
        "id": "04da59b9-7595-440b-b96a-1d72ed3906d7",
        "outputId": "285a7c7c-42a0-4a4c-d8af-d66dce87921f"
      },
      "outputs": [
        {
          "name": "stdout",
          "output_type": "stream",
          "text": [
            "[3, 4, 5, 6, 12, 34, 56]\n"
          ]
        }
      ],
      "source": [
        "a.sort()\n",
        "print(a)"
      ]
    },
    {
      "cell_type": "code",
      "execution_count": null,
      "id": "c42f781a-8792-43e6-b9fd-ab497c692545",
      "metadata": {
        "id": "c42f781a-8792-43e6-b9fd-ab497c692545",
        "outputId": "d9501806-b7da-4501-f835-304fe9521360"
      },
      "outputs": [
        {
          "name": "stdout",
          "output_type": "stream",
          "text": [
            "[56, 34, 12, 6, 5, 4, 3]\n"
          ]
        }
      ],
      "source": [
        "print(a[::-1])"
      ]
    },
    {
      "cell_type": "code",
      "execution_count": null,
      "id": "2f4d3d2e-c855-47e3-8aa0-711d66de41a0",
      "metadata": {
        "id": "2f4d3d2e-c855-47e3-8aa0-711d66de41a0",
        "outputId": "b5f1a157-4457-43e9-df59-cedf607bae5e"
      },
      "outputs": [
        {
          "name": "stdout",
          "output_type": "stream",
          "text": [
            "[1, 2, 3]\n"
          ]
        }
      ],
      "source": [
        "a = (1,2,3)\n",
        "print(list(a))"
      ]
    },
    {
      "cell_type": "code",
      "execution_count": null,
      "id": "49d98cc9-2c33-4de0-a49a-61639ae04e46",
      "metadata": {
        "id": "49d98cc9-2c33-4de0-a49a-61639ae04e46",
        "outputId": "00ac343c-6f2c-43b2-e2fa-0e1ceaa274fc"
      },
      "outputs": [
        {
          "name": "stdout",
          "output_type": "stream",
          "text": [
            "('data', [1, 2, 3], (2, 3, 4))\n"
          ]
        }
      ],
      "source": [
        "a = ('data', [1,2,3],(2,3,4))\n",
        "print(a)"
      ]
    },
    {
      "cell_type": "code",
      "execution_count": null,
      "id": "c61393a2-3c5d-46df-a6ae-93fdad1f35d2",
      "metadata": {
        "id": "c61393a2-3c5d-46df-a6ae-93fdad1f35d2",
        "outputId": "d7168eb4-c7bd-4d4c-c49a-93342324d523"
      },
      "outputs": [
        {
          "name": "stdout",
          "output_type": "stream",
          "text": [
            "('data', [1, 's', 3], (2, 3, 4))\n"
          ]
        }
      ],
      "source": [
        "a[1][1] = 's'\n",
        "print(a)"
      ]
    },
    {
      "cell_type": "code",
      "execution_count": null,
      "id": "d1ced84a-a62e-4c26-bc53-749fd4d3ff59",
      "metadata": {
        "id": "d1ced84a-a62e-4c26-bc53-749fd4d3ff59"
      },
      "outputs": [],
      "source": []
    }
  ],
  "metadata": {
    "kernelspec": {
      "display_name": "Python 3",
      "language": "python",
      "name": "python3"
    },
    "language_info": {
      "codemirror_mode": {
        "name": "ipython",
        "version": 3
      },
      "file_extension": ".py",
      "mimetype": "text/x-python",
      "name": "python",
      "nbconvert_exporter": "python",
      "pygments_lexer": "ipython3",
      "version": "3.12.4"
    },
    "colab": {
      "provenance": [],
      "include_colab_link": true
    }
  },
  "nbformat": 4,
  "nbformat_minor": 5
}