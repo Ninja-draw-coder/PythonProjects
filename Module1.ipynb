{
  "cells": [
    {
      "cell_type": "markdown",
      "metadata": {
        "id": "view-in-github",
        "colab_type": "text"
      },
      "source": [
        "<a href=\"https://colab.research.google.com/github/Ninja-draw-coder/PythonProjects/blob/main/Module1.ipynb\" target=\"_parent\"><img src=\"https://colab.research.google.com/assets/colab-badge.svg\" alt=\"Open In Colab\"/></a>"
      ]
    },
    {
      "cell_type": "code",
      "source": [
        "#Case Sensitive\n",
        "a = 50\n",
        "A = 90\n",
        "print(a)\n",
        "print(A)\n",
        "print(a,A)"
      ],
      "metadata": {
        "colab": {
          "base_uri": "https://localhost:8080/"
        },
        "id": "oa3vV78UXIKA",
        "outputId": "cd5703f1-e6da-4172-9dd1-85f07833145a"
      },
      "id": "oa3vV78UXIKA",
      "execution_count": 2,
      "outputs": [
        {
          "output_type": "stream",
          "name": "stdout",
          "text": [
            "50\n",
            "90\n",
            "50 90\n"
          ]
        }
      ]
    },
    {
      "cell_type": "code",
      "source": [
        "a = 10; A = 200; print(a); print(A); print(a,A)"
      ],
      "metadata": {
        "colab": {
          "base_uri": "https://localhost:8080/"
        },
        "id": "MnpuGN7KXIFa",
        "outputId": "75d8956b-b72e-483e-a3fe-29342b21f742"
      },
      "id": "MnpuGN7KXIFa",
      "execution_count": 5,
      "outputs": [
        {
          "output_type": "stream",
          "name": "stdout",
          "text": [
            "10\n",
            "200\n",
            "10 200\n"
          ]
        }
      ]
    },
    {
      "cell_type": "code",
      "source": [
        "#Comments   single line commenting\n",
        "#nsbxb\n",
        "'''a\n",
        "c\n",
        "d\n",
        "e\n",
        "r\n",
        "t\n",
        "y\n",
        "u\n",
        "i\n",
        "i\n",
        "y\n",
        "t\n",
        "r\n",
        "e\n",
        "e\n",
        "e\n",
        "e\n",
        "hjb'''\n",
        "a = 10454\n",
        "print(a)"
      ],
      "metadata": {
        "id": "Mq08POyvXIEL",
        "outputId": "52ae1dc6-b4c8-45fb-8a42-d5aa39e8cbeb",
        "colab": {
          "base_uri": "https://localhost:8080/"
        }
      },
      "id": "Mq08POyvXIEL",
      "execution_count": 8,
      "outputs": [
        {
          "output_type": "stream",
          "name": "stdout",
          "text": [
            "10454\n"
          ]
        }
      ]
    },
    {
      "cell_type": "code",
      "source": [
        "a = 10+50+ \\\n",
        "30+40\n",
        "print(a)\n",
        "\n",
        "a = (104+2065+\n",
        "30+400)\n",
        "print(a)"
      ],
      "metadata": {
        "colab": {
          "base_uri": "https://localhost:8080/"
        },
        "id": "ilXv1VZBYuEL",
        "outputId": "d0129120-503a-48fb-f887-2f6b93778926"
      },
      "id": "ilXv1VZBYuEL",
      "execution_count": 10,
      "outputs": [
        {
          "output_type": "stream",
          "name": "stdout",
          "text": [
            "130\n",
            "2599\n"
          ]
        }
      ]
    },
    {
      "cell_type": "code",
      "execution_count": null,
      "id": "8647cb59-6bfe-4f9f-bf0c-ee6eb617910e",
      "metadata": {
        "colab": {
          "base_uri": "https://localhost:8080/"
        },
        "id": "8647cb59-6bfe-4f9f-bf0c-ee6eb617910e",
        "outputId": "98f640d2-4ee6-4301-9c13-0fd5a5fe8880"
      },
      "outputs": [
        {
          "output_type": "stream",
          "name": "stdout",
          "text": [
            "10\n",
            "4\n",
            "21\n",
            "2.3333333333333335\n",
            "2\n",
            "1\n",
            "343\n"
          ]
        }
      ],
      "source": [
        "#Arithmetic Operators (int)         (Arithmetic operators in Python are used to perform mathematical operations.)\n",
        "a = 7\n",
        "b = 3\n",
        "print(a + b)  # Addition\n",
        "print(a - b)  # Subtraction\n",
        "print(a * b)  # Multiplication\n",
        "print(a / b)  # Division\n",
        "print(a // b) # Floor Division / Float Division   approximate\n",
        "print(a % b)  # Modulus / Remainder\n",
        "print(a ** b) # Exponentiation / Power"
      ]
    },
    {
      "cell_type": "code",
      "execution_count": 18,
      "id": "05340195-f2bd-4546-88f5-e81033ad7f5c",
      "metadata": {
        "id": "05340195-f2bd-4546-88f5-e81033ad7f5c",
        "outputId": "22a21c7f-df86-488e-ad4e-5725e1619424",
        "colab": {
          "base_uri": "https://localhost:8080/"
        }
      },
      "outputs": [
        {
          "output_type": "stream",
          "name": "stdout",
          "text": [
            "Enter the first number5\n",
            "Enter the second number6\n",
            "Addition of a and b 11\n",
            "Subtraction of a and b -1\n",
            "Multiplication of a and b 30\n",
            "Division of a and b 0.8333333333333334\n",
            "Floor Division of a and b 0\n",
            "Remainder of a and b 5\n",
            "Power of a and b 15625\n",
            "1\n",
            "2\n",
            "3\n",
            "4\n",
            "5\n",
            "Factorial of a is 120\n"
          ]
        }
      ],
      "source": [
        "#Arithmetic Operators (float)\n",
        "a = int(input(\"Enter the first number\") )\n",
        "b = int(input(\"Enter the second number\"))\n",
        "print(\"Addition of a and b\",  a + b)  # Addition\n",
        "print(\"Subtraction of a and b\", a - b)  # Subtraction\n",
        "print(\"Multiplication of a and b\",a * b)  # Multiplication\n",
        "print(\"Division of a and b\",a / b)  # Division\n",
        "print(\"Floor Division of a and b\",a // b) # Floor Division\n",
        "print(\"Remainder of a and b\",a % b)  # Modulus / Remainder\n",
        "print(\"Power of a and b\",a ** b) # Exponentiation / Power\n",
        "#Find the Factorial of two numbers\n",
        "fact = 1\n",
        "for i in range(1,a+1):\n",
        "  print(i)\n",
        "  fact = fact * i\n",
        "print(\"Factorial of a is\", fact)\n"
      ]
    },
    {
      "cell_type": "code",
      "execution_count": null,
      "id": "9e014082-7113-4c41-930e-b12c557f1e26",
      "metadata": {
        "id": "9e014082-7113-4c41-930e-b12c557f1e26",
        "outputId": "4ed09bdb-5981-4908-b265-0d0c2117b0ad"
      },
      "outputs": [
        {
          "name": "stdout",
          "output_type": "stream",
          "text": [
            "False\n",
            "True\n",
            "True\n",
            "False\n",
            "True\n",
            "False\n"
          ]
        }
      ],
      "source": [
        "#Comparison Operators (int)           (Comparison operators in Python are used to compare values and return a boolean result (True or False))\n",
        "a = 7\n",
        "b = 3\n",
        "print(a == b)  # Equals to\n",
        "print(a != b)  # Not Equals to\n",
        "print(a > b)   # Greater than\n",
        "print(a < b)   # Lesser than\n",
        "print(a >= b)  # Greater than equals to\n",
        "print(a <= b)  # Lesser than equals to"
      ]
    },
    {
      "cell_type": "code",
      "execution_count": null,
      "id": "f9b68bd5-fc9b-46f1-9a9a-fca5f24601ef",
      "metadata": {
        "id": "f9b68bd5-fc9b-46f1-9a9a-fca5f24601ef",
        "outputId": "1dfda285-7088-4c81-a374-0c513c39b290"
      },
      "outputs": [
        {
          "name": "stdout",
          "output_type": "stream",
          "text": [
            "False\n",
            "True\n",
            "True\n",
            "False\n",
            "True\n",
            "False\n"
          ]
        }
      ],
      "source": [
        "#Comparison Operators (float)\n",
        "a = 7.5\n",
        "b = 2.5\n",
        "print(a == b)  # Equals to\n",
        "print(a != b)  # Not Equals to\n",
        "print(a > b)   # Greater than\n",
        "print(a < b)   # Lesser than\n",
        "print(a >= b)  # Greater than equals to\n",
        "print(a <= b)  # Lesser than equals to"
      ]
    },
    {
      "cell_type": "code",
      "execution_count": null,
      "id": "c995928b-0f81-4fa7-a782-5bf4b6c00841",
      "metadata": {
        "id": "c995928b-0f81-4fa7-a782-5bf4b6c00841",
        "outputId": "fffca350-b061-48b4-e74a-742e12c63a23"
      },
      "outputs": [
        {
          "name": "stdout",
          "output_type": "stream",
          "text": [
            "False\n",
            "True\n",
            "False\n",
            "True\n",
            "False\n",
            "True\n"
          ]
        }
      ],
      "source": [
        "#Comparison Operators (string)\n",
        "a = \"apple\"  #5\n",
        "b = \"banana\" #6\n",
        "print(a == b)  # Equals to\n",
        "print(a != b)  # Not Equals to\n",
        "print(a > b)   # Greater than\n",
        "print(a < b)   # Lesser than\n",
        "print(a >= b)  # Greater than equals to\n",
        "print(a <= b)  # Lesser than equals to"
      ]
    },
    {
      "cell_type": "code",
      "execution_count": null,
      "id": "a0ab4a36-3634-47e1-bb03-e450dbfafbe5",
      "metadata": {
        "id": "a0ab4a36-3634-47e1-bb03-e450dbfafbe5",
        "outputId": "2a09086e-d8da-4413-c2c1-717eeb199a46"
      },
      "outputs": [
        {
          "name": "stdout",
          "output_type": "stream",
          "text": [
            "4.0\n"
          ]
        }
      ],
      "source": [
        "#Assignment Operators (Assignment operators in Python are used to assign values to variables and often combine assignment with another operation.)\n",
        "x = 7\n",
        "x += 3  # x = x+3 = 7+3 = 10\n",
        "x -= 2  # x = x-2 = 10-2 = 8\n",
        "x *= 4  # x = x*4 = 8*4 = 32\n",
        "x /= 8  # x = x/8 = 32/8 = 4.0\n",
        "x //= 2 # x = x//2 = 4//2 = 2.0\n",
        "x %= 3  # x = x%3 = 2.0% 3 =2.0\n",
        "x **= 2 # x = x**2 = 2**2 = 4.0\n",
        "print(x)"
      ]
    },
    {
      "cell_type": "code",
      "execution_count": null,
      "id": "8eb9fbe6-59e2-4e3b-8a84-eefe53d3c4ca",
      "metadata": {
        "id": "8eb9fbe6-59e2-4e3b-8a84-eefe53d3c4ca",
        "outputId": "3968b5e1-a4a7-4b66-f9f5-2e1318bcbac8"
      },
      "outputs": [
        {
          "name": "stdout",
          "output_type": "stream",
          "text": [
            "False\n",
            "True\n",
            "False\n",
            "True\n",
            "False\n"
          ]
        }
      ],
      "source": [
        "#Logical Operators (Logical operators in Python are used to perform logical operations on boolean values (True and False))\n",
        "a = True\n",
        "b = False\n",
        "result = a and b\n",
        "print(result)  # Output: False\n",
        "\n",
        "a = True\n",
        "b = True\n",
        "result = a and b\n",
        "print(result)  # Output: True\n",
        "\n",
        "a = False\n",
        "b = False\n",
        "result = a and b\n",
        "print(result)  # Output: True\n",
        "\n",
        "a = True\n",
        "b = False\n",
        "result = a or b\n",
        "print(result)  # Output: True\n",
        "\n",
        "a = False\n",
        "b = False\n",
        "result = a or b\n",
        "print(result)  # Output: False"
      ]
    },
    {
      "cell_type": "code",
      "execution_count": null,
      "id": "e4002b9e-cb8b-4c44-9941-e76f3884ee6e",
      "metadata": {
        "id": "e4002b9e-cb8b-4c44-9941-e76f3884ee6e",
        "outputId": "0ee9046f-2162-4438-f5af-d25552336b81"
      },
      "outputs": [
        {
          "name": "stdout",
          "output_type": "stream",
          "text": [
            "12\n",
            "61\n",
            "49\n",
            "-61\n",
            "240\n",
            "7\n"
          ]
        }
      ],
      "source": [
        "#Bitwise Operators (Bitwise operators in Python operate on the binary representations of integers. These operators perform operations bit by bit)\n",
        "#Bitwise AND(&)\n",
        "a = 60      # 0011 1100 in binary\n",
        "b = 13      # 0000 1101 in binary\n",
        "result = a & b  # 0000 1100 in binary, which is 12 in decimal\n",
        "print(result)   # Output: 12\n",
        "\n",
        "#Bitwise OR(|)\n",
        "a = 60      # 0011 1100 in binary\n",
        "b = 13      # 0000 1101 in binary\n",
        "result = a | b  # 0011 1101 in binary, which is 61 in decimal\n",
        "print(result)   # Output: 61\n",
        "\n",
        "#Bitwise XOR(^)\n",
        "a = 60      # 0011 1100 in binary          0-1 -> 1 , 1-0 -> 1 (else 0)\n",
        "b = 13      # 0000 1101 in binary\n",
        "result = a ^ b  # 0011 0001 in binary, which is 49 in decimal\n",
        "print(result)   # Output: 49\n",
        "\n",
        "#Bitwise NOT(~)\n",
        "a = 60     # 0011 1100 in binary #195\n",
        "result = ~a  # 1100 0011 in binary, which is -61 in decimal (two's complement)\n",
        "print(result)  # Output: -61                 1. Invert all the bits (bitwise NOT): 0011 1100.\n",
        "                                         #   2. Add 1 to the result: 0011 1100 + 1 = 0011 1101.\n",
        "                                         #   3. Convert the result to decimal: 0+0+32+16+8+4+0+1=61 = 60+1 = 61\n",
        "                                         #   4. Apply the negative sign to get -61.\n",
        "\n",
        "#Bitwise Left Shift(<<)\n",
        "a = 60      # 0011 1100 in binary\n",
        "result = a << 2  # Shift left by 2 positions, 1111 0000 in binary, which is 240 in decimal\n",
        "print(result)    # Output: 240\n",
        "\n",
        "#Bitwise Right Shift(>>)\n",
        "a = 60      # 0011 1100 in binary\n",
        "result = a >> 3  # Shift right by 2 positions, 0000 1111 in binary, which is 15 in decimal\n",
        "print(result)    # Output: 15"
      ]
    },
    {
      "cell_type": "code",
      "execution_count": null,
      "id": "ac484d98-e592-496a-993b-274dd6eb366c",
      "metadata": {
        "id": "ac484d98-e592-496a-993b-274dd6eb366c"
      },
      "outputs": [],
      "source": [
        "'''Membership Operators (Membership operators in Python are used to test whether a value or variable is found within a\n",
        "sequence (like a list, tuple, string) or other iterable objects. They are useful for checking the presence or absence of elements.)'''\n",
        "numbers = [1, 2, 3, 4, 5]   #list\n",
        "print(3 in numbers)  # Output: True\n",
        "print(6 in numbers)  # Output: False\n",
        "print(3 not in numbers)  # Output: False\n",
        "print(6 not in numbers)  # Output: True\n",
        "\n",
        "sentence = \"Hello, world!\"\n",
        "print(\"Hello\" in sentence)  # Output: True\n",
        "print(\"hello\" in sentence)  # Output: False (case-sensitive)\n",
        "print(\"Hello\" not in sentence)  # Output: False\n",
        "print(\"hello\" not in sentence)  # Output: True"
      ]
    },
    {
      "cell_type": "code",
      "execution_count": null,
      "id": "167f9d59-4545-4e0c-8502-0be6b7e5705f",
      "metadata": {
        "id": "167f9d59-4545-4e0c-8502-0be6b7e5705f",
        "outputId": "92d35033-2b04-4586-eb8d-fa5a2ea6ddb7"
      },
      "outputs": [
        {
          "name": "stdout",
          "output_type": "stream",
          "text": [
            "False\n",
            "True\n",
            "True\n",
            "False\n",
            "True\n",
            "False\n",
            "True\n",
            "True\n"
          ]
        }
      ],
      "source": [
        "#Identity Operators (Identity operators in Python are used to compare the memory addresses of two objects to determine if they are the same object.)\n",
        "a = [1,2,3]\n",
        "b = [1,2,3]\n",
        "c = a\n",
        "print(a is b)  # Output: False, because a and b are different objects with the same content\n",
        "print(a is c)  # Output: True, because c references the same object as a\n",
        "\n",
        "print(a is not b)  # Output: True, because a and b are different objects\n",
        "print(a is not c)  # Output: False, because c references the same object as a\n",
        "\n",
        "x = 256\n",
        "y = 256\n",
        "print(x is y)  # Output: True, because small integers are cached and reused\n",
        "\n",
        "x = 257\n",
        "y = 257\n",
        "print(x is y)  # Output: False, because integers outside the small range are not cached (-5 to 256)\n",
        "\n",
        "a = \"hello\"\n",
        "b = \"hello\"\n",
        "print(a is b)  # Output: True, because small strings are interned and reused\n",
        "\n",
        "a = \"mynameisgladys\"\n",
        "b = \"mynameisgladys\"\n",
        "print(a is b)  # Output: False, because long strings are not interned"
      ]
    }
  ],
  "metadata": {
    "kernelspec": {
      "display_name": "Python 3",
      "language": "python",
      "name": "python3"
    },
    "language_info": {
      "codemirror_mode": {
        "name": "ipython",
        "version": 3
      },
      "file_extension": ".py",
      "mimetype": "text/x-python",
      "name": "python",
      "nbconvert_exporter": "python",
      "pygments_lexer": "ipython3",
      "version": "3.12.4"
    },
    "colab": {
      "provenance": [],
      "include_colab_link": true
    }
  },
  "nbformat": 4,
  "nbformat_minor": 5
}