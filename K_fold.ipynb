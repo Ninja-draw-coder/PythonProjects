{
  "nbformat": 4,
  "nbformat_minor": 0,
  "metadata": {
    "colab": {
      "provenance": [],
      "include_colab_link": true
    },
    "kernelspec": {
      "name": "python3",
      "display_name": "Python 3"
    },
    "language_info": {
      "name": "python"
    }
  },
  "cells": [
    {
      "cell_type": "markdown",
      "metadata": {
        "id": "view-in-github",
        "colab_type": "text"
      },
      "source": [
        "<a href=\"https://colab.research.google.com/github/Ninja-draw-coder/PythonProjects/blob/main/K_fold.ipynb\" target=\"_parent\"><img src=\"https://colab.research.google.com/assets/colab-badge.svg\" alt=\"Open In Colab\"/></a>"
      ]
    },
    {
      "cell_type": "code",
      "execution_count": null,
      "metadata": {
        "id": "cb2mviPuaIWU"
      },
      "outputs": [],
      "source": [
        "from sklearn.datasets import load_iris\n",
        "from sklearn.linear_model import LogisticRegression\n",
        "from sklearn.model_selection import KFold,cross_val_score\n",
        "import numpy as np"
      ]
    },
    {
      "cell_type": "code",
      "source": [
        "#Load the dataset\n",
        "\n",
        "iris = load_iris()\n",
        "X = iris.data\n",
        "y = iris.target"
      ],
      "metadata": {
        "id": "6t7S99nGaqT5"
      },
      "execution_count": null,
      "outputs": []
    },
    {
      "cell_type": "code",
      "source": [
        "#Choose the model\n",
        "model = LogisticRegression(max_iter = 200)\n"
      ],
      "metadata": {
        "id": "8AOSpIupa5D2"
      },
      "execution_count": null,
      "outputs": []
    },
    {
      "cell_type": "code",
      "source": [
        "#Define k-fold\n",
        "kf = KFold(n_splits = 5, shuffle = True, random_state = 42)"
      ],
      "metadata": {
        "id": "SRrw5C24bAX5"
      },
      "execution_count": null,
      "outputs": []
    },
    {
      "cell_type": "code",
      "source": [
        "#Perform cross validation and calculate the scores\n",
        "scores = cross_val_score(model, X, y, cv = kf)"
      ],
      "metadata": {
        "id": "yKPNt-MSbFkN"
      },
      "execution_count": null,
      "outputs": []
    },
    {
      "cell_type": "code",
      "source": [
        "#Show the result\n",
        "print(\"Cross-validation scores:\", scores)\n",
        "print(\"Mean accuracy:\", np.mean(scores))"
      ],
      "metadata": {
        "colab": {
          "base_uri": "https://localhost:8080/"
        },
        "id": "BOX65AbYbNuj",
        "outputId": "c2851218-db3c-4737-a695-159cb8743747"
      },
      "execution_count": null,
      "outputs": [
        {
          "output_type": "stream",
          "name": "stdout",
          "text": [
            "Cross-validation scores: [1.         1.         0.93333333 0.96666667 0.96666667]\n",
            "Mean accuracy: 0.9733333333333334\n"
          ]
        }
      ]
    },
    {
      "cell_type": "code",
      "source": [
        "from sklearn.datasets import load_iris\n",
        "from sklearn.model_selection import KFold, cross_val_score\n",
        "from sklearn.linear_model import LogisticRegression\n",
        "from sklearn.svm import SVC\n",
        "from sklearn.tree import DecisionTreeClassifier\n",
        "import numpy as np\n",
        "\n",
        "# Load the dataset\n",
        "iris = load_iris()\n",
        "X = iris.data\n",
        "y = iris.target\n",
        "\n",
        "# Define K-Fold cross-validation strategy\n",
        "kf = KFold(n_splits=5, shuffle=True, random_state=42)\n",
        "\n",
        "# Define models to compare\n",
        "models = {\n",
        "    \"Logistic Regression\": LogisticRegression(max_iter=200),\n",
        "    \"SVM\": SVC(kernel='linear'),  # You can also try 'rbf' or 'poly'\n",
        "    \"Decision Tree\": DecisionTreeClassifier()\n",
        "}\n",
        "\n",
        "# Compare models using cross-validation\n",
        "for name, model in models.items():\n",
        "    scores = cross_val_score(model, X, y, cv=kf)\n",
        "    print(f\"{name} - Cross-validation scores: {scores}\")\n",
        "    print(f\"{name} - Mean accuracy: {np.mean(scores):.4f}\\n\")\n"
      ],
      "metadata": {
        "colab": {
          "base_uri": "https://localhost:8080/"
        },
        "id": "rMF3oRt6KYrO",
        "outputId": "906ecc1e-b13f-4e65-940f-46a8b2ea459e"
      },
      "execution_count": 1,
      "outputs": [
        {
          "output_type": "stream",
          "name": "stdout",
          "text": [
            "Logistic Regression - Cross-validation scores: [1.         1.         0.93333333 0.96666667 0.96666667]\n",
            "Logistic Regression - Mean accuracy: 0.9733\n",
            "\n",
            "SVM - Cross-validation scores: [1.         1.         0.96666667 0.93333333 0.96666667]\n",
            "SVM - Mean accuracy: 0.9733\n",
            "\n",
            "Decision Tree - Cross-validation scores: [1.         1.         0.93333333 0.93333333 0.93333333]\n",
            "Decision Tree - Mean accuracy: 0.9600\n",
            "\n"
          ]
        }
      ]
    }
  ]
}