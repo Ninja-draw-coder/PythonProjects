{
  "nbformat": 4,
  "nbformat_minor": 0,
  "metadata": {
    "colab": {
      "provenance": [],
      "authorship_tag": "ABX9TyNaCRN/aeCjp40V0n6+pjd+",
      "include_colab_link": true
    },
    "kernelspec": {
      "name": "python3",
      "display_name": "Python 3"
    },
    "language_info": {
      "name": "python"
    }
  },
  "cells": [
    {
      "cell_type": "markdown",
      "metadata": {
        "id": "view-in-github",
        "colab_type": "text"
      },
      "source": [
        "<a href=\"https://colab.research.google.com/github/Ninja-draw-coder/PythonProjects/blob/main/Industry%20Core%20InfrastructureCertification%20Project.ipynb\" target=\"_parent\"><img src=\"https://colab.research.google.com/assets/colab-badge.svg\" alt=\"Open In Colab\"/></a>"
      ]
    },
    {
      "cell_type": "code",
      "source": [
        "pip install python-calamine"
      ],
      "metadata": {
        "colab": {
          "base_uri": "https://localhost:8080/"
        },
        "id": "ya4df86Y4OAk",
        "outputId": "b9c48614-93d9-4613-bc1b-b72fd50a1630"
      },
      "execution_count": 2,
      "outputs": [
        {
          "output_type": "stream",
          "name": "stdout",
          "text": [
            "Collecting python-calamine\n",
            "  Downloading python_calamine-0.4.0-cp311-cp311-manylinux_2_17_x86_64.manylinux2014_x86_64.whl.metadata (3.9 kB)\n",
            "Requirement already satisfied: packaging>=23.1 in /usr/local/lib/python3.11/dist-packages (from python-calamine) (24.2)\n",
            "Downloading python_calamine-0.4.0-cp311-cp311-manylinux_2_17_x86_64.manylinux2014_x86_64.whl (888 kB)\n",
            "\u001b[2K   \u001b[90m━━━━━━━━━━━━━━━━━━━━━━━━━━━━━━━━━━━━━━━━\u001b[0m \u001b[32m888.0/888.0 kB\u001b[0m \u001b[31m8.3 MB/s\u001b[0m eta \u001b[36m0:00:00\u001b[0m\n",
            "\u001b[?25hInstalling collected packages: python-calamine\n",
            "Successfully installed python-calamine-0.4.0\n"
          ]
        }
      ]
    },
    {
      "cell_type": "code",
      "execution_count": 3,
      "metadata": {
        "colab": {
          "base_uri": "https://localhost:8080/"
        },
        "id": "5mkYCZb83_E-",
        "outputId": "b0057467-3e25-4c2d-9f28-f5780d8b3323"
      },
      "outputs": [
        {
          "output_type": "stream",
          "name": "stdout",
          "text": [
            "Country\n",
            "United States     108118.08600\n",
            "Australia          41023.82100\n",
            "France             39419.73750\n",
            "China              31023.18300\n",
            "Germany            25606.90200\n",
            "Brazil             22436.30056\n",
            "Indonesia          19576.82820\n",
            "Mexico             19275.77840\n",
            "India              18087.15000\n",
            "United Kingdom     16597.06500\n",
            "Name: Sales, dtype: float64\n"
          ]
        }
      ],
      "source": [
        "# Read sheets using pandas\n",
        "import pandas as pd\n",
        "from datetime import datetime\n",
        "\n",
        "orders = pd.read_excel('global_superstore_2016.xlsx', sheet_name='Orders', engine='calamine')\n",
        "returns = pd.read_excel('global_superstore_2016.xlsx', sheet_name='Returns', engine='calamine')\n",
        "\n",
        "# convert epoch order date to datetime where necessary\n",
        "orders['Order Date'] = pd.to_datetime(orders['Order Date'], unit='ms', errors='coerce')\n",
        "\n",
        "# mark returns\n",
        "orders['Returned'] = orders['Order ID'].isin(returns['Order ID'])\n",
        "\n",
        "# calculate refund sales\n",
        "returned_orders = orders[orders['Returned']]\n",
        "country_refund = returned_orders.groupby('Country')['Sales'].sum().sort_values(ascending=False).head(10)\n",
        "\n",
        "print(country_refund.head(10))"
      ]
    }
  ]
}