{
  "nbformat": 4,
  "nbformat_minor": 0,
  "metadata": {
    "colab": {
      "provenance": [],
      "authorship_tag": "ABX9TyNCePfXKzj+2J7CeHMMQVXV",
      "include_colab_link": true
    },
    "kernelspec": {
      "name": "python3",
      "display_name": "Python 3"
    },
    "language_info": {
      "name": "python"
    }
  },
  "cells": [
    {
      "cell_type": "markdown",
      "metadata": {
        "id": "view-in-github",
        "colab_type": "text"
      },
      "source": [
        "<a href=\"https://colab.research.google.com/github/Ninja-draw-coder/PythonProjects/blob/main/NetFlix_HW_Module11.ipynb\" target=\"_parent\"><img src=\"https://colab.research.google.com/assets/colab-badge.svg\" alt=\"Open In Colab\"/></a>"
      ]
    },
    {
      "cell_type": "code",
      "execution_count": 3,
      "metadata": {
        "colab": {
          "base_uri": "https://localhost:8080/"
        },
        "id": "BZDyWdRKUHMJ",
        "outputId": "61188bf8-0316-4b34-903e-5b3a4507f8f4"
      },
      "outputs": [
        {
          "output_type": "stream",
          "name": "stdout",
          "text": [
            "\n",
            "Null values in each column:\n",
            "\n",
            " DataFrame After replacing null values:\n",
            "0             The Irishman\n",
            "1           Marriage Story\n",
            "2                     Roma\n",
            "3                 Bird Box\n",
            "4             The Irishman\n",
            "5               Extraction\n",
            "6             The Platform\n",
            "7           Murder Mystery\n",
            "8            The Two Popes\n",
            "9                     Roma\n",
            "10    Spenser Confidential\n",
            "11                No Title\n",
            "12           The Old Guard\n",
            "13         Triple Frontier\n",
            "14           6 Underground\n",
            "Name: movie_title, dtype: object\n",
            "\n",
            "Duplicate movie titles:\n",
            "    movie_title  ratings        actor_name\n",
            "0  The Irishman      7.8    Robert De Niro\n",
            "2          Roma      7.7  Yalitza Aparicio\n",
            "4  The Irishman      7.8         Al Pacino\n",
            "9          Roma      7.7              None\n"
          ]
        }
      ],
      "source": [
        "#Netflix Dataset with Duplicates and Nulls\n",
        "\n",
        "import pandas as pd\n",
        "import numpy as np\n",
        "\n",
        "# Create a sample Netflix dataset\n",
        "data = {\n",
        "    'movie_title': [\n",
        "        'The Irishman',\n",
        "        'Marriage Story',\n",
        "        'Roma',\n",
        "        'Bird Box',\n",
        "        'The Irishman',  # Duplicate entry\n",
        "        'Extraction',\n",
        "        'The Platform',\n",
        "        'Murder Mystery',\n",
        "        'The Two Popes',\n",
        "        'Roma',  # Duplicate entry\n",
        "        'Spenser Confidential',\n",
        "        None,  # Null value\n",
        "        'The Old Guard',\n",
        "        'Triple Frontier',\n",
        "        '6 Underground'\n",
        "    ],\n",
        "    'ratings': [\n",
        "        7.8,\n",
        "        8.0,\n",
        "        7.7,\n",
        "        6.6,\n",
        "        7.8,  # Duplicate rating for duplicate movie\n",
        "        6.7,\n",
        "        7.0,\n",
        "        None,  # Null value\n",
        "        7.6,\n",
        "        7.7,  # Duplicate rating for duplicate movie\n",
        "        6.2,\n",
        "        5.9,\n",
        "        6.7,\n",
        "        None,  # Null value\n",
        "        6.1\n",
        "    ],\n",
        "    'actor_name': [\n",
        "        'Robert De Niro',\n",
        "        'Adam Driver',\n",
        "        'Yalitza Aparicio',\n",
        "        'Sandra Bullock',\n",
        "        'Al Pacino',  # Different actor for duplicate movie\n",
        "        'Chris Hemsworth',\n",
        "        'Ivan Massagué',\n",
        "        'Adam Sandler',\n",
        "        'Anthony Hopkins',\n",
        "        None,  # Null value for duplicate movie\n",
        "        'Mark Wahlberg',\n",
        "        'Will Ferrell',\n",
        "        'Charlize Theron',\n",
        "        'Ben Affleck',\n",
        "        'Ryan Reynolds'\n",
        "    ]\n",
        "}\n",
        "\n",
        "# Create the DataFrame\n",
        "netflix_df = pd.DataFrame(data)\n",
        "\n",
        "# Display the DataFrame\n",
        "#print(netflix_df)\n",
        "\n",
        "# Check for nulls\n",
        "print(\"\\nNull values in each column:\")\n",
        "#print(netflix_df.isnull())\n",
        "\n",
        "# replacing na values in columns\n",
        "newdfA = netflix_df[\"actor_name\"].dropna()\n",
        "newdfR = netflix_df[\"ratings\"].dropna()\n",
        "newdfM = netflix_df[\"movie_title\"].fillna(\"No Title\")\n",
        "print(\"\\n DataFrame After replacing null values:\")\n",
        "print(newdfA)\n",
        "\n",
        "# Check for duplicates\n",
        "print(\"\\nDuplicate movie titles:\")\n",
        "print(netflix_df[netflix_df.duplicated(subset=['movie_title'], keep=False)])\n"
      ]
    }
  ]
}