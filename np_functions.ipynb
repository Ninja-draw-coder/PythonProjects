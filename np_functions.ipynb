{
  "nbformat": 4,
  "nbformat_minor": 0,
  "metadata": {
    "colab": {
      "provenance": [],
      "include_colab_link": true
    },
    "kernelspec": {
      "name": "python3",
      "display_name": "Python 3"
    },
    "language_info": {
      "name": "python"
    }
  },
  "cells": [
    {
      "cell_type": "markdown",
      "metadata": {
        "id": "view-in-github",
        "colab_type": "text"
      },
      "source": [
        "<a href=\"https://colab.research.google.com/github/Ninja-draw-coder/PythonProjects/blob/main/np_functions.ipynb\" target=\"_parent\"><img src=\"https://colab.research.google.com/assets/colab-badge.svg\" alt=\"Open In Colab\"/></a>"
      ]
    },
    {
      "cell_type": "code",
      "execution_count": 3,
      "metadata": {
        "colab": {
          "base_uri": "https://localhost:8080/"
        },
        "id": "jH6toAGUhh9y",
        "outputId": "2d5edf3e-5e33-4e0e-c6b4-fe79fd195a1e"
      },
      "outputs": [
        {
          "output_type": "stream",
          "name": "stdout",
          "text": [
            "[ 6  8 10 12]\n",
            "['1' '2']\n",
            "['a' 'b' 'c']\n"
          ]
        }
      ],
      "source": [
        "#Arithmetic operations on single nad multidimensional\n",
        "\n",
        "import numpy as np\n",
        "a = np.array([1,2,3,4])\n",
        "b = np.array([5,6,7,8])\n",
        "c= np.array([\"a\",\"b\",\"c\"])\n",
        "d = np.array([\"1\",\"2\"],dtype =\"str\")\n",
        "\n",
        "\n",
        "\n",
        "\n",
        "\n",
        "print(a+b)  # 6, 8 , 10, 12\n",
        "print(d)\n",
        "print(c)"
      ]
    },
    {
      "cell_type": "code",
      "source": [
        "a = np.array([[1,2],[3,4]])\n",
        "b = np.array([[5,6],[7,8]])\n",
        "\n",
        "'''print(a)\n",
        "print(b)'''\n",
        "\n",
        "print(a+b)"
      ],
      "metadata": {
        "colab": {
          "base_uri": "https://localhost:8080/"
        },
        "id": "u-YvH8zHifuq",
        "outputId": "bc33d70d-667f-4d79-8fa0-f4a10595d2a7"
      },
      "execution_count": null,
      "outputs": [
        {
          "output_type": "stream",
          "name": "stdout",
          "text": [
            "[[1 2]\n",
            " [3 4]]\n",
            "[[5 6]\n",
            " [7 8]]\n",
            "[[ 6  8]\n",
            " [10 12]]\n"
          ]
        }
      ]
    },
    {
      "cell_type": "code",
      "source": [
        "a = np.array([[[1,2],[3,4],[5,6]]])\n",
        "b = np.array([[[5,6],[7,8],[0,9]]])\n",
        "\n",
        "'''print(a)\n",
        "print(b)'''\n",
        "\n",
        "print(a+b)\n",
        "print(a*b)"
      ],
      "metadata": {
        "colab": {
          "base_uri": "https://localhost:8080/"
        },
        "id": "NmvlZQhdjMNJ",
        "outputId": "e9d637cd-1bb5-4273-9aa7-b16221382b6e"
      },
      "execution_count": null,
      "outputs": [
        {
          "output_type": "stream",
          "name": "stdout",
          "text": [
            "[[[ 6  8]\n",
            "  [10 12]\n",
            "  [ 5 15]]]\n",
            "[[[ 5 12]\n",
            "  [21 32]\n",
            "  [ 0 54]]]\n"
          ]
        }
      ]
    },
    {
      "cell_type": "code",
      "source": [
        "#reshape() function -> used to change the shape of an array without changing its data\n",
        "\n",
        "# np.reshape(array,new_shape)\n",
        "\n",
        "arr = np.array([1,2,3,4,5,6,7,8,9])   #1D  with 9 elements\n",
        "\n",
        "re_arr = arr.reshape(3,3)\n",
        "print(re_arr)\n",
        "\n",
        "re_arr2 = arr.reshape(1,9)\n",
        "print(re_arr2)\n",
        "\n",
        "re_arr3 = arr.reshape(9,2)\n",
        "print(re_arr3)"
      ],
      "metadata": {
        "colab": {
          "base_uri": "https://localhost:8080/",
          "height": 270
        },
        "id": "1y1AoCf7jzQB",
        "outputId": "e12e3b57-1095-4534-c01d-347bd96ec213"
      },
      "execution_count": null,
      "outputs": [
        {
          "output_type": "stream",
          "name": "stdout",
          "text": [
            "[[1 2 3]\n",
            " [4 5 6]\n",
            " [7 8 9]]\n",
            "[[1 2 3 4 5 6 7 8 9]]\n"
          ]
        },
        {
          "output_type": "error",
          "ename": "ValueError",
          "evalue": "cannot reshape array of size 9 into shape (9,2)",
          "traceback": [
            "\u001b[0;31m---------------------------------------------------------------------------\u001b[0m",
            "\u001b[0;31mValueError\u001b[0m                                Traceback (most recent call last)",
            "\u001b[0;32m<ipython-input-12-446b9526f03b>\u001b[0m in \u001b[0;36m<cell line: 0>\u001b[0;34m()\u001b[0m\n\u001b[1;32m     11\u001b[0m \u001b[0mprint\u001b[0m\u001b[0;34m(\u001b[0m\u001b[0mre_arr2\u001b[0m\u001b[0;34m)\u001b[0m\u001b[0;34m\u001b[0m\u001b[0;34m\u001b[0m\u001b[0m\n\u001b[1;32m     12\u001b[0m \u001b[0;34m\u001b[0m\u001b[0m\n\u001b[0;32m---> 13\u001b[0;31m \u001b[0mre_arr3\u001b[0m \u001b[0;34m=\u001b[0m \u001b[0marr\u001b[0m\u001b[0;34m.\u001b[0m\u001b[0mreshape\u001b[0m\u001b[0;34m(\u001b[0m\u001b[0;36m9\u001b[0m\u001b[0;34m,\u001b[0m\u001b[0;36m2\u001b[0m\u001b[0;34m)\u001b[0m\u001b[0;34m\u001b[0m\u001b[0;34m\u001b[0m\u001b[0m\n\u001b[0m\u001b[1;32m     14\u001b[0m \u001b[0mprint\u001b[0m\u001b[0;34m(\u001b[0m\u001b[0mre_arr3\u001b[0m\u001b[0;34m)\u001b[0m\u001b[0;34m\u001b[0m\u001b[0;34m\u001b[0m\u001b[0m\n",
            "\u001b[0;31mValueError\u001b[0m: cannot reshape array of size 9 into shape (9,2)"
          ]
        }
      ]
    },
    {
      "cell_type": "code",
      "source": [
        "arr = np.array([1,2,3,4,5,6,7,8,9,10])\n",
        "re = arr.reshape(5,2,1)\n",
        "print(re)"
      ],
      "metadata": {
        "colab": {
          "base_uri": "https://localhost:8080/"
        },
        "id": "sxvYP-gHk1oh",
        "outputId": "7975bf30-37f4-4b88-8781-a59e5002fb1d"
      },
      "execution_count": null,
      "outputs": [
        {
          "output_type": "stream",
          "name": "stdout",
          "text": [
            "[[[ 1]\n",
            "  [ 2]]\n",
            "\n",
            " [[ 3]\n",
            "  [ 4]]\n",
            "\n",
            " [[ 5]\n",
            "  [ 6]]\n",
            "\n",
            " [[ 7]\n",
            "  [ 8]]\n",
            "\n",
            " [[ 9]\n",
            "  [10]]]\n"
          ]
        }
      ]
    },
    {
      "cell_type": "code",
      "source": [
        "#Matrix product\n",
        "\n",
        "'''3x4  -> 3rows, 4 columns\n",
        "   4x5  -> 4 rows, 5 columns\n",
        "\n",
        "   The number of columns in first matrix should be to\n",
        "   the number of rows  in second matrix\n",
        "\n",
        "   the answer will be in shape 3x5 -> 3 rows and 5 columns\n",
        "\n",
        "   but if i have matrices like\n",
        "\n",
        "   4x5 dot product 3x4   not possible because no.of columns in first is not equals to no of rows in second'''\n",
        "\n",
        "\n",
        "a = np.array([[1,2,3,4],[5,6,7,8],[9,8,7,6]])  #3x4\n",
        "\n",
        "b = np.array([[1,2,3,4,5],[6,7,8,9,8],[4,5,6,7,8],[2,3,4,5,6]])  #4x5\n",
        "\n",
        "'''print(a.shape)\n",
        "print(b.shape)\n",
        "\n",
        "print(a)\n",
        "print(b)'''\n",
        "\n",
        "print(np.dot(a,b))\n",
        "print(b.dot(a))  #4x5 and 3x4"
      ],
      "metadata": {
        "colab": {
          "base_uri": "https://localhost:8080/",
          "height": 234
        },
        "id": "kHh7WlcWlSL3",
        "outputId": "3412e1bb-4989-4e42-a76c-1cb8e5e7c998"
      },
      "execution_count": null,
      "outputs": [
        {
          "output_type": "stream",
          "name": "stdout",
          "text": [
            "[[ 33  43  53  63  69]\n",
            " [ 85 111 137 163 177]\n",
            " [ 97 127 157 187 201]]\n"
          ]
        },
        {
          "output_type": "error",
          "ename": "ValueError",
          "evalue": "shapes (4,5) and (3,4) not aligned: 5 (dim 1) != 3 (dim 0)",
          "traceback": [
            "\u001b[0;31m---------------------------------------------------------------------------\u001b[0m",
            "\u001b[0;31mValueError\u001b[0m                                Traceback (most recent call last)",
            "\u001b[0;32m<ipython-input-28-d1df948e726d>\u001b[0m in \u001b[0;36m<cell line: 0>\u001b[0;34m()\u001b[0m\n\u001b[1;32m     25\u001b[0m \u001b[0;34m\u001b[0m\u001b[0m\n\u001b[1;32m     26\u001b[0m \u001b[0mprint\u001b[0m\u001b[0;34m(\u001b[0m\u001b[0mnp\u001b[0m\u001b[0;34m.\u001b[0m\u001b[0mdot\u001b[0m\u001b[0;34m(\u001b[0m\u001b[0ma\u001b[0m\u001b[0;34m,\u001b[0m\u001b[0mb\u001b[0m\u001b[0;34m)\u001b[0m\u001b[0;34m)\u001b[0m\u001b[0;34m\u001b[0m\u001b[0;34m\u001b[0m\u001b[0m\n\u001b[0;32m---> 27\u001b[0;31m \u001b[0mprint\u001b[0m\u001b[0;34m(\u001b[0m\u001b[0mb\u001b[0m\u001b[0;34m.\u001b[0m\u001b[0mdot\u001b[0m\u001b[0;34m(\u001b[0m\u001b[0ma\u001b[0m\u001b[0;34m)\u001b[0m\u001b[0;34m)\u001b[0m\u001b[0;34m\u001b[0m\u001b[0;34m\u001b[0m\u001b[0m\n\u001b[0m",
            "\u001b[0;31mValueError\u001b[0m: shapes (4,5) and (3,4) not aligned: 5 (dim 1) != 3 (dim 0)"
          ]
        }
      ]
    },
    {
      "cell_type": "code",
      "source": [
        "'''Numpy offers powerful functions\n",
        "1. Universal functions -> operates element wise on array making calculations fast and efficent\n",
        "np.mod()   -> remainder\n",
        "np.log()   -> natural logarithm value\n",
        "np.bitwise_and()  -> bitwise AND operation\n",
        "np.hypot() -> hypotenuse of right triangle   (square root of (base^2 + height^2))\n",
        "\n",
        "2. Aggregate functions\n",
        "3. Logic functions\n",
        "4. Element-wise comparison functions'''\n",
        "\n"
      ],
      "metadata": {
        "id": "zR58MM_Znna5"
      },
      "execution_count": null,
      "outputs": []
    },
    {
      "cell_type": "code",
      "source": [
        "#mod()\n",
        "print(np.mod([1,2,3,4],3))\n",
        "\n",
        "#log()\n",
        "print(np.log([1,2,3,4]))   #natural logarithm\n",
        "\n",
        "#log2()\n",
        "print(np.log2([1,2,3,4]))  #logarithm with base 2\n",
        "\n",
        "#log10()\n",
        "print(np.log10([1,2,3,4])) #logarithm with base 10\n",
        "\n",
        "#bitwise_and()\n",
        "print(np.bitwise_and([1,2,3,4],[3,4,5,6]))\n",
        "\n",
        "#hypot()\n",
        "print(np.hypot(3,4))  #3 is base, 4 is height"
      ],
      "metadata": {
        "colab": {
          "base_uri": "https://localhost:8080/"
        },
        "id": "SHxPLZTqrSGL",
        "outputId": "d8ddcdc9-d72b-45cb-a67e-77ad32b054d3"
      },
      "execution_count": null,
      "outputs": [
        {
          "output_type": "stream",
          "name": "stdout",
          "text": [
            "[1 2 0 1]\n",
            "[0.         0.69314718 1.09861229 1.38629436]\n",
            "[0.        1.        1.5849625 2.       ]\n",
            "[0.         0.30103    0.47712125 0.60205999]\n",
            "[1 0 1 4]\n",
            "5.0\n"
          ]
        }
      ]
    },
    {
      "cell_type": "code",
      "source": [],
      "metadata": {
        "id": "VEz8nBxmrlKk"
      },
      "execution_count": null,
      "outputs": []
    }
  ]
}