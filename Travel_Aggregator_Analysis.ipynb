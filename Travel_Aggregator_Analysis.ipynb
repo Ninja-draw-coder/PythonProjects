{
  "nbformat": 4,
  "nbformat_minor": 0,
  "metadata": {
    "colab": {
      "provenance": [],
      "authorship_tag": "ABX9TyNnQ8t7uETt1sOG86kq6H1F",
      "include_colab_link": true
    },
    "kernelspec": {
      "name": "python3",
      "display_name": "Python 3"
    },
    "language_info": {
      "name": "python"
    }
  },
  "cells": [
    {
      "cell_type": "markdown",
      "metadata": {
        "id": "view-in-github",
        "colab_type": "text"
      },
      "source": [
        "<a href=\"https://colab.research.google.com/github/Ninja-draw-coder/PythonProjects/blob/main/Travel_Aggregator_Analysis.ipynb\" target=\"_parent\"><img src=\"https://colab.research.google.com/assets/colab-badge.svg\" alt=\"Open In Colab\"/></a>"
      ]
    },
    {
      "cell_type": "markdown",
      "source": [
        " Travel Aggregator Analysis\n",
        " \"Travelling has significantly changed thanks to technology. In the earlier days, it was not\n",
        "easy to travel as booking journeys used to be a hassle, where people needed to contact\n",
        "travel agents, get prices and then do a lot of paperwork.\n",
        "But, with the advent of online apps, it becomes easier to book tickets. However, one\n",
        "challenge is still there. Due to many available apps which offer bookings, there can be a lot\n",
        "of comparisons for getting the best price.\n",
        "A new Indian start-up, \"MyNextBooking” is an aggregator on top of the available top\n",
        "platforms (Yatra, MMT, Goibibo). It helps the user compare prices for their upcoming\n",
        "journeys on its platform and the customer is redirected to the desired platform after\n",
        "looking at the price.\n",
        "However, they need to do a lot of analysis of the data which they have collected over a\n",
        "while.\n",
        "As a newly hired analyst and proficiency in Python, your role is to help them perform an indepth analysis.\""
      ],
      "metadata": {
        "id": "Em-HxHcBa0at"
      }
    },
    {
      "cell_type": "markdown",
      "source": [
        "Q.1 Find the number of distinct bookings, sessions, and searches from the given data sets"
      ],
      "metadata": {
        "id": "tBVrKlLslH-F"
      }
    },
    {
      "cell_type": "code",
      "execution_count": null,
      "metadata": {
        "id": "INJlkYAHYZ8J",
        "outputId": "9be47282-e086-489d-a1f0-5dd15c613640",
        "colab": {
          "base_uri": "https://localhost:8080/"
        }
      },
      "outputs": [
        {
          "output_type": "stream",
          "name": "stdout",
          "text": [
            "Printing the unique values present in the booking column 339\n",
            "Printing the unique values present in the sessions column 331\n",
            "Printing the unique values present in the search column 1360\n"
          ]
        }
      ],
      "source": [
        "#To find the number of distinct bookings, sessions, and searches using Python with pandas, you'll need to read both CSV files and use the nunique() method.\n",
        "import pandas as pd\n",
        "\n",
        "# Load CSVs\n",
        "df_bookings = pd.read_csv('Bookings.csv')\n",
        "#print(df_bookings.head())\n",
        "df_sessions = pd.read_csv('Sessions.csv')\n",
        "#df_sessions.head()\n",
        "\n",
        "#number fo distinct bookings\n",
        "# printing the unique values present in the booking column\n",
        "print(\"Printing the unique values present in the booking column\",df_bookings['booking_id'].nunique())\n",
        "\n",
        "\n",
        "#number fo distinct sessions\n",
        "# printing the unique values present in the session column\n",
        "print(\"Printing the unique values present in the sessions column\",df_sessions['session_id'].nunique())\n",
        "\n",
        "#number fo distinct searches\n",
        "# printing the unique values present in the search column\n",
        "print(\"Printing the unique values present in the search column\",df_sessions['search_id'].nunique())\n"
      ]
    },
    {
      "cell_type": "markdown",
      "source": [
        "Q.2 How many sessions have more than one booking?\n"
      ],
      "metadata": {
        "id": "EzWhR3VBjoCW"
      }
    },
    {
      "cell_type": "code",
      "source": [
        "#How many sessions have more than one booking?\n",
        "# Drop null bookings (if some sessions didn’t lead to bookings)\n",
        "filtered_df = df_sessions.dropna(subset=['booking_id'])\n",
        "\n",
        "# Count unique bookings per session\n",
        "booking_counts = filtered_df.groupby('session_id')['booking_id'].nunique()\n",
        "\n",
        "# Filter sessions with more than one booking\n",
        "sessions_with_multiple_bookings = booking_counts[booking_counts > 1]\n",
        "\n",
        "# Output count\n",
        "print(f\"Number of sessions with more than one booking: {len(sessions_with_multiple_bookings)}\")\n"
      ],
      "metadata": {
        "id": "i0U3ZWgXjscC",
        "outputId": "87ce35cd-2f8f-41eb-a63f-6ea7f2526bd8",
        "colab": {
          "base_uri": "https://localhost:8080/"
        }
      },
      "execution_count": null,
      "outputs": [
        {
          "output_type": "stream",
          "name": "stdout",
          "text": [
            "session_id\n",
            "session_0      1\n",
            "session_1      1\n",
            "session_10     1\n",
            "session_100    1\n",
            "session_101    1\n",
            "              ..\n",
            "session_95     1\n",
            "session_96     1\n",
            "session_97     1\n",
            "session_98     1\n",
            "session_99     1\n",
            "Name: booking_id, Length: 329, dtype: int64\n",
            "Number of sessions with more than one booking: 10\n"
          ]
        }
      ]
    },
    {
      "cell_type": "markdown",
      "source": [
        "Q.3 Which days of the week have the highest number of bookings? Also, draw a pie\n",
        "chart to show the distribution for all days of the week?\n"
      ],
      "metadata": {
        "id": "OOqhxSvxloLC"
      }
    },
    {
      "cell_type": "code",
      "source": [
        "#Which days of the week have the highest number of bookings?\n",
        "# Also, draw a pie chart to show the distribution for all days of the week?\n",
        "import pandas as pd\n",
        "import matplotlib.pyplot as plt\n",
        "\n",
        "# Load bookings dataset\n",
        "booking_df = pd.read_csv(\"Bookings.csv\")\n",
        "\n",
        "# Convert 'booking_time' to datetime\n",
        "booking_df['booking_time'] = pd.to_datetime(booking_df['booking_time'])\n",
        "\n",
        "# Extract day of the week (e.g., Monday, Tuesday)\n",
        "booking_df['booking_day'] = booking_df['booking_time'].dt.day_name()\n",
        "\n",
        "# Count bookings per day\n",
        "day_counts = booking_df['booking_day'].value_counts().sort_index()  # sort for consistent pie chart order\n",
        "\n",
        "# Display the most frequent booking day(s)\n",
        "most_bookings_day = day_counts.idxmax()\n",
        "print(f\"Day with the highest number of bookings: {most_bookings_day}\")\n",
        "print(day_counts)\n",
        "\n",
        "#plot the pie chart\n",
        "plt.figure(figsize=(8, 8))\n",
        "plt.pie(day_counts, labels=day_counts.index, autopct='%1.1f%%', startangle=140)\n",
        "plt.title('Distribution of Bookings by Day of the Week')\n",
        "plt.axis('equal')  # Equal aspect ratio ensures the pie is a circle.\n",
        "plt.show()\n"
      ],
      "metadata": {
        "id": "z2xLOhb2llCM",
        "outputId": "259183c7-c4b8-425f-b529-be078ed11b69",
        "colab": {
          "base_uri": "https://localhost:8080/",
          "height": 858
        }
      },
      "execution_count": null,
      "outputs": [
        {
          "output_type": "stream",
          "name": "stdout",
          "text": [
            "Day with the highest number of bookings: Thursday\n",
            "booking_day\n",
            "Friday       51\n",
            "Monday       51\n",
            "Saturday     44\n",
            "Sunday       35\n",
            "Thursday     65\n",
            "Tuesday      59\n",
            "Wednesday    34\n",
            "Name: count, dtype: int64\n"
          ]
        },
        {
          "output_type": "display_data",
          "data": {
            "text/plain": [
              "<Figure size 800x800 with 1 Axes>"
            ],
            "image/png": "[encoded data removed]"
          },
          "metadata": {}
        }
      ]
    },
    {
      "cell_type": "markdown",
      "source": [
        "Q.4  For each of the service names, display the total number of bookings and the total Gross Booking Value in INR."
      ],
      "metadata": {
        "id": "lkQTDrA8oNmt"
      }
    },
    {
      "cell_type": "code",
      "source": [
        "# Step 2: Group the data by service name\n",
        "grouped_data = df_bookings.groupby('service_name')\n",
        "\n",
        "# Step 3: Get total number of bookings for each service\n",
        "total_bookings = grouped_data['booking_id'].count()\n",
        "\n",
        "# Step 4: Get total Gross Booking Value (INR) for each service\n",
        "total_gbv = grouped_data['INR_Amount'].sum()\n",
        "\n",
        "# Step 5: Combine both results into a summary DataFrame\n",
        "summary = pd.DataFrame({\n",
        "    'Total Bookings': total_bookings,\n",
        "    'Total Gross Booking Value (INR)': total_gbv\n",
        "})\n",
        "\n",
        "# Step 6: Display the result\n",
        "print(summary)"
      ],
      "metadata": {
        "id": "Xwsl2XCGoTIi",
        "outputId": "a6b69bc5-1c1b-4b8b-cfca-ecc47e92b0e3",
        "colab": {
          "base_uri": "https://localhost:8080/"
        }
      },
      "execution_count": null,
      "outputs": [
        {
          "output_type": "stream",
          "name": "stdout",
          "text": [
            "              Total Bookings  Total Gross Booking Value (INR)\n",
            "service_name                                                 \n",
            "GOIBIBO                  186                       5897637.97\n",
            "MMT                       48                        665669.08\n",
            "YATRA                    105                       3378702.13\n"
          ]
        }
      ]
    },
    {
      "cell_type": "markdown",
      "source": [
        "Q. 5 For customers who have more than 1 booking, which is the most booked route\n",
        "(from_city to to_city)?"
      ],
      "metadata": {
        "id": "L8u4fqEfoMUy"
      }
    },
    {
      "cell_type": "code",
      "source": [
        "#For customers who have more than 1 booking, which is the most booked route (from_city to to_city)?\n",
        "import pandas as pd\n",
        "import matplotlib.pyplot as plt\n",
        "\n",
        "# Step 1: Load the data\n",
        "df_bookings = pd.read_csv('Bookings.csv')\n",
        "\n",
        "'''customerbookings = df_bookings.groupby('customer_id').filter(lambda x: len(x) > 1)\n",
        "route_counts = customerbookings.groupby(['from_city', 'to_city']).size().reset_index(name='count')\n",
        "most_booked_route = route_counts.loc[route_counts['count'].idxmax()]\n",
        "print(f\"The most booked route is from {most_booked_route['from_city']} to {most_booked_route['to_city']} with {most_booked_route['count']} bookings.\")\n",
        "'''\n",
        "# Step 2: Group by customer_id and count booking_ids\n",
        "customer_booking_counts = df_bookings.groupby('customer_id')['booking_id'].count()\n",
        "\n",
        "# Step 3: Filter customers who have more than 1 booking\n",
        "multi_booking_customers = customer_booking_counts[customer_booking_counts > 1].index\n",
        "\n",
        "# Step 4: Filter the main data to include only these customers\n",
        "multi_booking_data = df_bookings[df_bookings['customer_id'].isin(multi_booking_customers)]\n",
        "\n",
        "# Step 5: Create a new 'route' column\n",
        "multi_booking_data = multi_booking_data.copy()  # avoid SettingWithCopyWarning\n",
        "multi_booking_data['route'] = multi_booking_data['from_city'] + \" ➔ \" + multi_booking_data['to_city']\n",
        "\n",
        "# Step 6: Group by 'route' and count how many times each route was booked\n",
        "route_counts = multi_booking_data.groupby('route')['booking_id'].count()\n",
        "\n",
        "# Step 7: Find the route with the maximum bookings\n",
        "most_common_route = route_counts.idxmax()\n",
        "most_common_route_count = route_counts.max()\n",
        "\n",
        "# Step 8: Display the result\n",
        "print(f\"The most booked route among customers with multiple bookings is: {most_common_route}\")\n",
        "print(f\"Number of times this route was booked: {most_common_route_count}\")"
      ],
      "metadata": {
        "id": "F_mrPxs7oTr0",
        "outputId": "9294694c-f842-43b3-e8be-6269723006b8",
        "colab": {
          "base_uri": "https://localhost:8080/"
        }
      },
      "execution_count": 4,
      "outputs": [
        {
          "output_type": "stream",
          "name": "stdout",
          "text": [
            "The most booked route among customers with multiple bookings is: Gurgaon ➔ Roissy-en-France\n",
            "Number of times this route was booked: 5\n"
          ]
        }
      ]
    },
    {
      "cell_type": "markdown",
      "source": [
        "Which are the top 3 departure cities from where customers book mostly in advance,\n",
        "provided that there have been at least 5 departures from that city?"
      ],
      "metadata": {
        "id": "987Qn9kHwr8h"
      }
    },
    {
      "cell_type": "code",
      "source": [
        "import pandas as pd\n",
        "\n",
        "# Step 1: Load the data\n",
        "data = pd.read_csv(\"Bookings.csv\")  # Replace with your filename\n",
        "\n",
        "# Step 2: Group by 'from_city'\n",
        "city_group = data.groupby('from_city')\n",
        "\n",
        "# Step 3: For each city, calculate:\n",
        "# - total departures (count of bookings)\n",
        "# - average days to departure\n",
        "city_stats = city_group.agg(\n",
        "    total_departures=('booking_id', 'count'),\n",
        "    avg_days_to_departure=('days_to_departure', 'mean')\n",
        ").reset_index()\n",
        "\n",
        "# Step 4: Filter only cities with at least 5 departures\n",
        "city_stats_filtered = city_stats[city_stats['total_departures'] >= 5]\n",
        "\n",
        "# Step 5: Sort by highest average days to departure\n",
        "top_cities = city_stats_filtered.sort_values(by='avg_days_to_departure', ascending=False)\n",
        "\n",
        "# Step 6: Display the top 3 cities\n",
        "print(\"Top 3 departure cities where customers book mostly in advance:\")\n",
        "print(top_cities)"
      ],
      "metadata": {
        "id": "Zbr6f7Xi__uA",
        "outputId": "275bccc1-35d8-4942-8fb4-0eeaf7acb709",
        "colab": {
          "base_uri": "https://localhost:8080/"
        }
      },
      "execution_count": 30,
      "outputs": [
        {
          "output_type": "stream",
          "name": "stdout",
          "text": [
            "Top 3 departure cities where customers book mostly in advance:\n",
            "      from_city  total_departures  avg_days_to_departure\n",
            "7       Bālāpur                 6              46.166667\n",
            "11   Devanhalli                24              29.583333\n",
            "8       Chennai                16              26.187500\n",
            "16      Gurgaon               136              26.176471\n",
            "27       Mumbai                34              21.764706\n",
            "29    New Delhi                 7              21.285714\n",
            "25  Madhyamgram                 6              15.000000\n",
            "10        Delhi                29              12.758621\n",
            "1     Ahmedabad                 8              11.750000\n",
            "33   Rāja Sānsi                17               8.823529\n"
          ]
        }
      ]
    },
    {
      "cell_type": "code",
      "source": [
        "#Which are the top 3 departure cities from where customers book mostly in advance,provided that there have been at least 5 departures from that city?\n",
        "df_departurecity = df_bookings.groupby('from_city')['booking_id'].count().reset_index()\n",
        "df_departurecity.columns = ['from_city', 'count']\n",
        "\n",
        "df_departurecity = df_departurecity[df_departurecity['count'] >= 5].sort_values(by='count', ascending=False)\n",
        "#df_departurecity = df_departurecity.sort_values(by='count', ascending=False)\n",
        "print(df_departurecity)\n",
        "\n",
        "# Step 4: Filter the main data to include only these cities\n",
        "multi_booking_data = df_bookings[df_bookings['from_city'].isin(df_departurecity['from_city'])]\n",
        "#print(multi_booking_data)\n",
        "\n",
        "#Now filter data for advance bookings where days of departure is greater then 0\n",
        "df_advance = multi_booking_data[multi_booking_data['days_to_departure'] > 0]\n",
        "print(df_advance.head())\n",
        "\n",
        "#top 3 departure cities from where customers book mostly in advance\n",
        "df_advance_departurecity  = df_advance.groupby('from_city')['booking_id'].count().reset_index()\n",
        "print(df_advance_departurecity)\n",
        "df_advance_departurecity = df_advance_departurecity.sort_values(by='booking_id', ascending=False)\n",
        "print(df_advance_departurecity.head(3))\n"
      ],
      "metadata": {
        "id": "_hY6LbuPwuDo",
        "outputId": "9be93e1c-21aa-4182-8ecb-6bc2e5e64a73",
        "colab": {
          "base_uri": "https://localhost:8080/"
        }
      },
      "execution_count": 28,
      "outputs": [
        {
          "output_type": "stream",
          "name": "stdout",
          "text": [
            "      from_city  count\n",
            "16      Gurgaon    136\n",
            "27       Mumbai     34\n",
            "10        Delhi     29\n",
            "11   Devanhalli     24\n",
            "33   Rāja Sānsi     17\n",
            "8       Chennai     16\n",
            "1     Ahmedabad      8\n",
            "29    New Delhi      7\n",
            "7       Bālāpur      6\n",
            "25  Madhyamgram      6\n",
            "    customer_id   booking_id   from_city from_country            to_city  \\\n",
            "0  customer_259   booking_82     Gurgaon        India          Ahmedabad   \n",
            "1  customer_303  booking_156       Delhi        India           Brussels   \n",
            "2  customer_203   booking_99  Devanhalli        India  Frankfurt am Main   \n",
            "3  customer_211  booking_319     Gurgaon        India  Frankfurt am Main   \n",
            "4  customer_287  booking_222     Gurgaon        India   Roissy-en-France   \n",
            "\n",
            "  to_country          booking_time device_type_used  INR_Amount service_name  \\\n",
            "0      India  2020-02-05T16:12:08Z          Desktop     2565.28          MMT   \n",
            "1    Belgium  2018-11-21T08:21:47Z          Android    23120.00        YATRA   \n",
            "2    Germany  2019-12-16T22:54:58Z          Android    25717.60        YATRA   \n",
            "3    Germany  2021-10-29T12:25:38Z          Desktop   135969.60      GOIBIBO   \n",
            "4     France  2020-08-11T16:09:10Z          Android    31791.20      GOIBIBO   \n",
            "\n",
            "   no_of_passengers  days_to_departure  distance_km  \n",
            "0               1.0               10.0        747.8  \n",
            "1               1.0                1.0       6701.5  \n",
            "2               1.0               32.0       7712.0  \n",
            "3               2.0               69.0       6112.5  \n",
            "4               1.0                3.0       6570.4  \n",
            "     from_city  booking_id\n",
            "0    Ahmedabad           8\n",
            "1      Bālāpur           6\n",
            "2      Chennai          16\n",
            "3        Delhi          29\n",
            "4   Devanhalli          24\n",
            "5      Gurgaon         131\n",
            "6  Madhyamgram           6\n",
            "7       Mumbai          34\n",
            "8    New Delhi           7\n",
            "9   Rāja Sānsi          17\n",
            "  from_city  booking_id\n",
            "5   Gurgaon         131\n",
            "7    Mumbai          34\n",
            "3     Delhi          29\n"
          ]
        }
      ]
    }
  ]
}