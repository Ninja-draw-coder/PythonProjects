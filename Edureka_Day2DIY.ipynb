{
  "nbformat": 4,
  "nbformat_minor": 0,
  "metadata": {
    "colab": {
      "provenance": [],
      "authorship_tag": "ABX9TyORXQtEJQrnR8L0zjJVAsNo",
      "include_colab_link": true
    },
    "kernelspec": {
      "name": "python3",
      "display_name": "Python 3"
    },
    "language_info": {
      "name": "python"
    }
  },
  "cells": [
    {
      "cell_type": "markdown",
      "metadata": {
        "id": "view-in-github",
        "colab_type": "text"
      },
      "source": [
        "<a href=\"https://colab.research.google.com/github/Ninja-draw-coder/PythonProjects/blob/main/Edureka_Day2DIY.ipynb\" target=\"_parent\"><img src=\"https://colab.research.google.com/assets/colab-badge.svg\" alt=\"Open In Colab\"/></a>"
      ]
    },
    {
      "cell_type": "code",
      "execution_count": 3,
      "metadata": {
        "colab": {
          "base_uri": "https://localhost:8080/"
        },
        "id": "nuwcg6UFAQWb",
        "outputId": "1a4f56b4-c3c9-4a14-bec5-e8e3e84a8dd8"
      },
      "outputs": [
        {
          "output_type": "stream",
          "name": "stdout",
          "text": [
            "Print enter maths marks89\n",
            "Print enter science marks65\n",
            "Print enter social marks63.32\n",
            "Print enter english marks98\n",
            "Print enter hindi marks99\n",
            "Print enter computer marks95\n",
            "Total MRaks=  509.32 Average=  84.88666666666667 Percent 84.88666666666667\n",
            "84.88666666666667%\n"
          ]
        }
      ],
      "source": [
        "'''Write a Python program that takes marks as input for six subjects, with\n",
        "maximum marks being 600, and prints total marks, average marks, and\n",
        "percentages obtained by a student.'''\n",
        "maths_marks = float(input(\"Print enter maths marks\"))\n",
        "science_marks = float(input(\"Print enter science marks\"))\n",
        "social_marks = float(input(\"Print enter social marks\"))\n",
        "english_marks = float(input(\"Print enter english marks\"))\n",
        "hindi_marks = float(input(\"Print enter hindi marks\"))\n",
        "computer_marks = float(input(\"Print enter computer marks\"))\n",
        "sum = maths_marks+ science_marks+ social_marks+ english_marks+hindi_marks+computer_marks\n",
        "avrage = sum / 6\n",
        "percent = (sum/600)*100\n",
        "print(\"Total MRaks= \", sum, \"Average= \", avrage, \"Percent\" , float(percent,2))\n",
        "print(str(percent) + \"%\")"
      ]
    }
  ]
}