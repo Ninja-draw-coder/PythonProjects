{
  "nbformat": 4,
  "nbformat_minor": 0,
  "metadata": {
    "colab": {
      "provenance": [],
      "include_colab_link": true
    },
    "kernelspec": {
      "name": "python3",
      "display_name": "Python 3"
    },
    "language_info": {
      "name": "python"
    }
  },
  "cells": [
    {
      "cell_type": "markdown",
      "metadata": {
        "id": "view-in-github",
        "colab_type": "text"
      },
      "source": [
        "<a href=\"https://colab.research.google.com/github/Ninja-draw-coder/PythonProjects/blob/main/M23_zscoretest.ipynb\" target=\"_parent\"><img src=\"https://colab.research.google.com/assets/colab-badge.svg\" alt=\"Open In Colab\"/></a>"
      ]
    },
    {
      "cell_type": "code",
      "execution_count": null,
      "metadata": {
        "colab": {
          "base_uri": "https://localhost:8080/"
        },
        "id": "3v9LEnpRBwnQ",
        "outputId": "26e98615-e0c2-4e35-d457-bd5c19045621"
      },
      "outputs": [
        {
          "output_type": "stream",
          "name": "stdout",
          "text": [
            "Z-Score :  -2.12\n",
            "P-Value :  0.03\n",
            "Reject the null hypothesis\n"
          ]
        }
      ],
      "source": [
        "from scipy.stats import norm\n",
        "import math\n",
        "\n",
        "#Given data\n",
        "sample_mean = 167\n",
        "population_mean = 170\n",
        "population_std = 10\n",
        "n = 50\n",
        "\n",
        "#Z-test formula\n",
        "z = (sample_mean - population_mean) / (population_std / math.sqrt(n))\n",
        "\n",
        "#p-value for two -tailed test\n",
        "p_value = 2*(1-norm.cdf(abs(z)))\n",
        "\n",
        "#Results\n",
        "print(\"Z-Score : \",round(z,2))\n",
        "print(\"P-Value : \",round(p_value,2))\n",
        "\n",
        "#Conclusion\n",
        "alpha = 0.05\n",
        "if p_value < alpha:\n",
        "    print(\"Reject the null hypothesis\")\n",
        "else:\n",
        "    print(\"Fail to reject the null hypothesis\")"
      ]
    },
    {
      "cell_type": "code",
      "source": [],
      "metadata": {
        "id": "7fd6uIm9CJze"
      },
      "execution_count": null,
      "outputs": []
    }
  ]
}