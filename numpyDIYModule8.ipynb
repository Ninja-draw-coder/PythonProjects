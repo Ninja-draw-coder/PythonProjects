{
  "nbformat": 4,
  "nbformat_minor": 0,
  "metadata": {
    "colab": {
      "provenance": [],
      "authorship_tag": "ABX9TyPluYZd3GNNp0Q7pof6Pq8m",
      "include_colab_link": true
    },
    "kernelspec": {
      "name": "python3",
      "display_name": "Python 3"
    },
    "language_info": {
      "name": "python"
    }
  },
  "cells": [
    {
      "cell_type": "markdown",
      "metadata": {
        "id": "view-in-github",
        "colab_type": "text"
      },
      "source": [
        "<a href=\"https://colab.research.google.com/github/Ninja-draw-coder/PythonProjects/blob/main/numpyDIYModule8.ipynb\" target=\"_parent\"><img src=\"https://colab.research.google.com/assets/colab-badge.svg\" alt=\"Open In Colab\"/></a>"
      ]
    },
    {
      "cell_type": "code",
      "execution_count": 4,
      "metadata": {
        "colab": {
          "base_uri": "https://localhost:8080/"
        },
        "id": "qg5oulkUs0hy",
        "outputId": "e506a6f5-3d54-4b49-f52f-2548cca3e17c"
      },
      "outputs": [
        {
          "output_type": "stream",
          "name": "stdout",
          "text": [
            "[ 0  1  2  3  4  5  6  7  8  9 10 11 12 13 14]\n",
            "[array([0, 1, 2, 3, 4]), array([5, 6, 7, 8, 9]), array([10, 11, 12, 13, 14])]\n"
          ]
        }
      ],
      "source": [
        "import numpy as np\n",
        "a = np.arange(15)\n",
        "b= np.split(a,3)\n",
        "print(a)\n",
        "print(b)"
      ]
    },
    {
      "cell_type": "code",
      "source": [
        "import numpy as np\n",
        "a = np.arange(16).reshape(4,4)\n",
        "b = np.hsplit(a,2)\n",
        "print(b)\n",
        "#print(c)"
      ],
      "metadata": {
        "colab": {
          "base_uri": "https://localhost:8080/"
        },
        "id": "j0GtN-t6s1HY",
        "outputId": "e05b4ac4-10ae-461a-c459-903e2520d667"
      },
      "execution_count": 8,
      "outputs": [
        {
          "output_type": "stream",
          "name": "stdout",
          "text": [
            "[array([[ 0,  1],\n",
            "       [ 4,  5],\n",
            "       [ 8,  9],\n",
            "       [12, 13]]), array([[ 2,  3],\n",
            "       [ 6,  7],\n",
            "       [10, 11],\n",
            "       [14, 15]])]\n"
          ]
        }
      ]
    },
    {
      "cell_type": "code",
      "source": [
        "import numpy as np\n",
        "a =np.arange(20).reshape(4,5)\n",
        "print(a)\n",
        "b= np.transpose(a)\n",
        "print(b)"
      ],
      "metadata": {
        "colab": {
          "base_uri": "https://localhost:8080/"
        },
        "id": "bDTHvnw9waL5",
        "outputId": "edaec661-80f5-410d-be8b-895956506e8f"
      },
      "execution_count": 9,
      "outputs": [
        {
          "output_type": "stream",
          "name": "stdout",
          "text": [
            "[[ 0  1  2  3  4]\n",
            " [ 5  6  7  8  9]\n",
            " [10 11 12 13 14]\n",
            " [15 16 17 18 19]]\n",
            "[[ 0  5 10 15]\n",
            " [ 1  6 11 16]\n",
            " [ 2  7 12 17]\n",
            " [ 3  8 13 18]\n",
            " [ 4  9 14 19]]\n"
          ]
        }
      ]
    },
    {
      "cell_type": "code",
      "source": [
        "import numpy as np\n",
        "a = np.array([1,2,3,4])\n",
        "b= np.array([6,7,8,9])\n",
        "print(a,b)\n",
        "a=np.reshape(a,(2,2))\n",
        "b=np.reshape(b,(2,2))\n",
        "print(\"hstack Output horizontally stacked array:\\n \")\n",
        "print(np.hstack((a,b)))\n",
        "print(\"vstack Output vertically stacked array:\\n\")\n",
        "print(np.vstack((a,b)))\n",
        "print(\"concatnate\")\n",
        "print(np.concatenate((a,b),axis=0))\n",
        "print(\"split\")\n",
        "print(np.split(np.vstack((a,b)),1))"
      ],
      "metadata": {
        "colab": {
          "base_uri": "https://localhost:8080/"
        },
        "id": "Dz3sdYVbw7W4",
        "outputId": "04eac2e6-f8f8-46e6-c0da-7539b11e3534"
      },
      "execution_count": 26,
      "outputs": [
        {
          "output_type": "stream",
          "name": "stdout",
          "text": [
            "[1 2 3 4] [6 7 8 9]\n",
            "hstack Output horizontally stacked array:\n",
            " \n",
            "[[1 2 6 7]\n",
            " [3 4 8 9]]\n",
            "vstack Output vertically stacked array:\n",
            "\n",
            "[[1 2]\n",
            " [3 4]\n",
            " [6 7]\n",
            " [8 9]]\n",
            "concatnate\n",
            "[[1 2]\n",
            " [3 4]\n",
            " [6 7]\n",
            " [8 9]]\n",
            "split\n",
            "[array([[1, 2],\n",
            "       [3, 4],\n",
            "       [6, 7],\n",
            "       [8, 9]])]\n"
          ]
        }
      ]
    }
  ]
}