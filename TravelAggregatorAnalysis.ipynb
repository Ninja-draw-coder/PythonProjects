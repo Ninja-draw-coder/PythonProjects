{
  "nbformat": 4,
  "nbformat_minor": 0,
  "metadata": {
    "colab": {
      "provenance": [],
      "authorship_tag": "ABX9TyML1duw9tx1/K5/enDsU7O2",
      "include_colab_link": true
    },
    "kernelspec": {
      "name": "python3",
      "display_name": "Python 3"
    },
    "language_info": {
      "name": "python"
    }
  },
  "cells": [
    {
      "cell_type": "markdown",
      "metadata": {
        "id": "view-in-github",
        "colab_type": "text"
      },
      "source": [
        "<a href=\"https://colab.research.google.com/github/Ninja-draw-coder/PythonProjects/blob/main/TravelAggregatorAnalysis.ipynb\" target=\"_parent\"><img src=\"https://colab.research.google.com/assets/colab-badge.svg\" alt=\"Open In Colab\"/></a>"
      ]
    },
    {
      "cell_type": "markdown",
      "source": [
        "#1. Find the number of distinct bookings,sessions,and searches from the given datasets."
      ],
      "metadata": {
        "id": "Em-HxHcBa0at"
      }
    },
    {
      "cell_type": "code",
      "execution_count": 10,
      "metadata": {
        "id": "INJlkYAHYZ8J",
        "outputId": "9be47282-e086-489d-a1f0-5dd15c613640",
        "colab": {
          "base_uri": "https://localhost:8080/"
        }
      },
      "outputs": [
        {
          "output_type": "stream",
          "name": "stdout",
          "text": [
            "Printing the unique values present in the booking column 339\n",
            "Printing the unique values present in the sessions column 331\n",
            "Printing the unique values present in the search column 1360\n"
          ]
        }
      ],
      "source": [
        "#To find the number of distinct bookings, sessions, and searches using Python with pandas, you'll need to read both CSV files and use the nunique() method.\n",
        "import pandas as pd\n",
        "\n",
        "# Load CSVs\n",
        "df_bookings = pd.read_csv('Bookings.csv')\n",
        "#print(df_bookings.head())\n",
        "df_sessions = pd.read_csv('Sessions.csv')\n",
        "#df_sessions.head()\n",
        "\n",
        "#number fo distinct bookings\n",
        "# printing the unique values present in the booking column\n",
        "print(\"Printing the unique values present in the booking column\",df_bookings['booking_id'].nunique())\n",
        "\n",
        "\n",
        "#number fo distinct sessions\n",
        "# printing the unique values present in the session column\n",
        "print(\"Printing the unique values present in the sessions column\",df_sessions['session_id'].nunique())\n",
        "\n",
        "#number fo distinct searches\n",
        "# printing the unique values present in the search column\n",
        "print(\"Printing the unique values present in the search column\",df_sessions['search_id'].nunique())\n"
      ]
    }
  ]
}