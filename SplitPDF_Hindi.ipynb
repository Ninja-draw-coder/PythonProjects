{
  "nbformat": 4,
  "nbformat_minor": 0,
  "metadata": {
    "colab": {
      "provenance": [],
      "authorship_tag": "ABX9TyNWj7LbWNgUdlbKaeRv9Bb4",
      "include_colab_link": true
    },
    "kernelspec": {
      "name": "python3",
      "display_name": "Python 3"
    },
    "language_info": {
      "name": "python"
    }
  },
  "cells": [
    {
      "cell_type": "markdown",
      "metadata": {
        "id": "view-in-github",
        "colab_type": "text"
      },
      "source": [
        "<a href=\"https://colab.research.google.com/github/Ninja-draw-coder/PythonProjects/blob/main/SplitPDF_Hindi.ipynb\" target=\"_parent\"><img src=\"https://colab.research.google.com/assets/colab-badge.svg\" alt=\"Open In Colab\"/></a>"
      ]
    },
    {
      "cell_type": "code",
      "source": [
        "pip install PyMuPDF"
      ],
      "metadata": {
        "colab": {
          "base_uri": "https://localhost:8080/"
        },
        "id": "S1PjH_ASgDxo",
        "outputId": "ba7893aa-3ced-4e92-ad9a-1b0e4ac0f603"
      },
      "execution_count": 3,
      "outputs": [
        {
          "output_type": "stream",
          "name": "stdout",
          "text": [
            "Collecting PyMuPDF\n",
            "  Downloading pymupdf-1.26.1-cp39-abi3-manylinux_2_28_x86_64.whl.metadata (3.4 kB)\n",
            "Downloading pymupdf-1.26.1-cp39-abi3-manylinux_2_28_x86_64.whl (24.1 MB)\n",
            "\u001b[2K   \u001b[90m━━━━━━━━━━━━━━━━━━━━━━━━━━━━━━━━━━━━━━━━\u001b[0m \u001b[32m24.1/24.1 MB\u001b[0m \u001b[31m78.4 MB/s\u001b[0m eta \u001b[36m0:00:00\u001b[0m\n",
            "\u001b[?25hInstalling collected packages: PyMuPDF\n",
            "Successfully installed PyMuPDF-1.26.1\n"
          ]
        }
      ]
    },
    {
      "cell_type": "code",
      "execution_count": 4,
      "metadata": {
        "id": "2X-SRu11fcBb"
      },
      "outputs": [],
      "source": [
        "import fitz  # PyMuPDF\n",
        "import re\n",
        "import os"
      ]
    },
    {
      "cell_type": "code",
      "source": [
        "import fitz  # PyMuPDF\n",
        "import re\n",
        "import os\n",
        "\n",
        "# === CONFIG ===\n",
        "input_pdf_path = \"ashtpahud_hin_txt.pdf\"   # Replace with your Hindi PDF file\n",
        "output_dir = \"chapters_output\"\n",
        "os.makedirs(output_dir, exist_ok=True)\n",
        "\n",
        "# Chapter detection pattern (English and Hindi)\n",
        "chapter_patterns = [\n",
        "    r\"(?i)chapter\\s+\\d+\",        # English: Chapter 1, Chapter 2, etc.\n",
        "    r\"अध्याय\\s*\\d+\",             # Hindi: अध्याय 1, अध्याय २, etc.\n",
        "]\n",
        "\n",
        "def detect_chapters(doc):\n",
        "    chapter_pages = []\n",
        "    for page_num in range(len(doc)):\n",
        "        page = doc[page_num]\n",
        "        text = page.get_text().strip()\n",
        "        for pattern in chapter_patterns:\n",
        "            if re.search(pattern, text):\n",
        "                chapter_pages.append((page_num, re.search(pattern, text).group()))\n",
        "                break\n",
        "    return chapter_pages\n",
        "\n",
        "def split_pdf_by_chapters(input_pdf):\n",
        "    doc = fitz.open(input_pdf)\n",
        "    chapters = detect_chapters(doc)\n",
        "\n",
        "    if not chapters:\n",
        "        print(\"No chapters found.\")\n",
        "        return\n",
        "\n",
        "    chapters.append((len(doc), \"End\"))  # Add end marker\n",
        "    print(f\"Found {len(chapters) - 1} chapters.\")\n",
        "\n",
        "    for i in range(len(chapters) - 1):\n",
        "        start_page = chapters[i][0]\n",
        "        end_page = chapters[i+1][0]\n",
        "        chapter_title = chapters[i][1].replace(\" \", \"_\")\n",
        "\n",
        "        new_doc = fitz.open()\n",
        "        for page_num in range(start_page, end_page):\n",
        "            new_doc.insert_pdf(doc, from_page=page_num, to_page=page_num)\n",
        "\n",
        "        output_path = os.path.join(output_dir, f\"{chapter_title}.pdf\")\n",
        "        new_doc.save(output_path)\n",
        "        print(f\"Saved: {output_path}\")\n",
        "\n",
        "    doc.close()\n",
        "\n",
        "# === RUN ===\n",
        "split_pdf_by_chapters(input_pdf_path)\n"
      ],
      "metadata": {
        "colab": {
          "base_uri": "https://localhost:8080/"
        },
        "id": "4r7AN6rdfcn0",
        "outputId": "881bc100-7625-4b69-b106-dd3942b73c95"
      },
      "execution_count": 5,
      "outputs": [
        {
          "output_type": "stream",
          "name": "stdout",
          "text": [
            "No chapters found.\n"
          ]
        }
      ]
    },
    {
      "cell_type": "code",
      "source": [
        "import fitz  # PyMuPDF\n",
        "import re\n",
        "import os\n",
        "\n",
        "# Input PDF\n",
        "input_pdf = \"ashtpahud_hin_txt.pdf\"\n",
        "output_dir = \"Ashtpahud_Chapters\"\n",
        "os.makedirs(output_dir, exist_ok=True)\n",
        "\n",
        "# Regex pattern to detect chapter headings like '1‹', '2‹', ... '8‹'\n",
        "chapter_regex = r\"\\b[1-8]‹\\s?[^\\n]*\"\n",
        "\n",
        "# Load PDF\n",
        "doc = fitz.open(input_pdf)\n",
        "\n",
        "# Scan for chapter headings with page numbers\n",
        "chapter_starts = []\n",
        "for page_num in range(len(doc)):\n",
        "    text = doc[page_num].get_text()\n",
        "    matches = re.findall(chapter_regex, text)\n",
        "    for match in matches:\n",
        "        chapter_starts.append((page_num, match.strip()))\n",
        "        break  # one heading per page\n",
        "\n",
        "# Add the end of the last chapter\n",
        "chapter_starts.append((len(doc), \"END\"))\n",
        "\n",
        "# Split and save each chapter\n",
        "for i in range(len(chapter_starts) - 1):\n",
        "    start_page = chapter_starts[i][0]\n",
        "    end_page = chapter_starts[i + 1][0]\n",
        "    chapter_title = chapter_starts[i][1].replace(\"‹\", \"\").replace(\" \", \"_\")\n",
        "    chapter_title = re.sub(r'[^\\w\\s-]', '', chapter_title)  # clean filename\n",
        "\n",
        "    new_doc = fitz.open()\n",
        "    for page_num in range(start_page, end_page):\n",
        "        new_doc.insert_pdf(doc, from_page=page_num, to_page=page_num)\n",
        "\n",
        "    output_path = os.path.join(output_dir, f\"{i+1:02d}_{chapter_title}.pdf\")\n",
        "    new_doc.save(output_path)\n",
        "    print(f\"✅ Saved: {output_path}\")"
      ],
      "metadata": {
        "colab": {
          "base_uri": "https://localhost:8080/"
        },
        "id": "faqGAURRg-t8",
        "outputId": "2f62e6c6-bd40-46ef-b335-26fbba7cb463"
      },
      "execution_count": 6,
      "outputs": [
        {
          "output_type": "stream",
          "name": "stdout",
          "text": [
            "✅ Saved: Ashtpahud_Chapters/01_1_dxRnpahuD.pdf\n",
            "✅ Saved: Ashtpahud_Chapters/02_2_sUZ_pahuD.pdf\n",
            "✅ Saved: Ashtpahud_Chapters/03_3_cairZpahuD.pdf\n",
            "✅ Saved: Ashtpahud_Chapters/04_4_bopahuD.pdf\n",
            "✅ Saved: Ashtpahud_Chapters/05_5_wavpahuD.pdf\n",
            "✅ Saved: Ashtpahud_Chapters/06_6_moÙpahuD.pdf\n",
            "✅ Saved: Ashtpahud_Chapters/07_7_ilHgpahuD.pdf\n",
            "✅ Saved: Ashtpahud_Chapters/08_1_sakp--_shcr_hetup_inimÀamaZ_AHtrHg_kayR_ho_to_baæ_meH_s_pkar_ko_inimÀakar_kha_jata_hE.pdf\n",
            "✅ Saved: Ashtpahud_Chapters/09_1_kH_vNdeguhInH_apahuD_meH_pa_hE_.pdf\n",
            "✅ Saved: Ashtpahud_Chapters/10_1_AucrbhusÀaihAo_AnucrbhusÀviht_muidt_aŸpawtmeH_yh_pa_hE.pdf\n",
            "✅ Saved: Ashtpahud_Chapters/11_1_paaNtr_-_cohH.pdf\n",
            "✅ Saved: Ashtpahud_Chapters/12_1_dU_paaNtr.pdf\n"
          ]
        }
      ]
    },
    {
      "cell_type": "code",
      "source": [
        "import fitz  # PyMuPDF\n",
        "import os\n",
        "import re\n",
        "\n",
        "# Define input and output paths\n",
        "input_pdf = \"ashtpahud_hin_txt.pdf\"\n",
        "output_folder = \"Ashtpahud_Split_Chapters\"\n",
        "os.makedirs(output_folder, exist_ok=True)\n",
        "\n",
        "# List of known chapter headings in the exact format as in the PDF\n",
        "chapter_titles = [\n",
        "    \"1‹ dxRnpahuD\",\n",
        "    \"2‹ sUZ pahuD\",\n",
        "    \"3‹ cairZpahuD\",\n",
        "    \"4‹ bo\\\\pahuD\",\n",
        "    \"5‹ wavpahuD\",\n",
        "    \"6‹ moÙpahuD\",\n",
        "    \"7‹ ilHgpahuD\",\n",
        "    \"8‹ xIlpahuD\"\n",
        "]\n",
        "\n",
        "# Load the PDF\n",
        "doc = fitz.open(input_pdf)\n",
        "\n",
        "# Find pages where chapters start\n",
        "chapter_starts = []\n",
        "for page_num in range(len(doc)):\n",
        "    page_text = doc[page_num].get_text()\n",
        "    for title in chapter_titles:\n",
        "        if title in page_text:\n",
        "            chapter_starts.append((page_num, title))\n",
        "            break  # only first match per page\n",
        "\n",
        "# Append the last page as endpoint\n",
        "chapter_starts.append((len(doc), \"END\"))\n",
        "\n",
        "# Split and save chapters\n",
        "for i in range(len(chapter_starts) - 1):\n",
        "    start_page = chapter_starts[i][0]\n",
        "    end_page = chapter_starts[i + 1][0]\n",
        "    title = chapter_starts[i][1]\n",
        "\n",
        "    # Clean title for filename\n",
        "    clean_title = re.sub(r'[\\\\\\/:*?\"<>|‹]', '', title).strip().replace(\" \", \"_\")\n",
        "    filename = f\"{i+1:02d}_{clean_title}.pdf\"\n",
        "    output_path = os.path.join(output_folder, filename)\n",
        "\n",
        "    # Create and save the new PDF\n",
        "    new_doc = fitz.open()\n",
        "    new_doc.insert_pdf(doc, from_page=start_page, to_page=end_page - 1)\n",
        "    new_doc.save(output_path)\n",
        "    print(f\"✅ Saved: {output_path}\")\n"
      ],
      "metadata": {
        "colab": {
          "base_uri": "https://localhost:8080/"
        },
        "id": "gdGjQeGZi5ei",
        "outputId": "4ff16b93-ca75-4b7c-e7f0-d96acecb064c"
      },
      "execution_count": 7,
      "outputs": [
        {
          "output_type": "stream",
          "name": "stdout",
          "text": [
            "✅ Saved: Ashtpahud_Split_Chapters/01_1_dxRnpahuD.pdf\n",
            "✅ Saved: Ashtpahud_Split_Chapters/02_2_sUZ_pahuD.pdf\n",
            "✅ Saved: Ashtpahud_Split_Chapters/03_3_cairZpahuD.pdf\n",
            "✅ Saved: Ashtpahud_Split_Chapters/04_4_bopahuD.pdf\n",
            "✅ Saved: Ashtpahud_Split_Chapters/05_5_wavpahuD.pdf\n",
            "✅ Saved: Ashtpahud_Split_Chapters/06_6_moÙpahuD.pdf\n",
            "✅ Saved: Ashtpahud_Split_Chapters/07_7_ilHgpahuD.pdf\n"
          ]
        }
      ]
    },
    {
      "cell_type": "code",
      "source": [
        "import fitz  # PyMuPDF\n",
        "import re\n",
        "\n",
        "# Replace with your file name if different\n",
        "pdf_file = \"ashtpahud_hin_txt.pdf\"\n",
        "\n",
        "# Chapter titles to search for\n",
        "chapter_titles = [\n",
        "    \"1‹ dxRnpahuD\",\n",
        "    \"2‹ sUZ pahuD\",\n",
        "    \"3‹ cairZpahuD\",\n",
        "    \"4‹ bo\\\\pahuD\",\n",
        "    \"5‹ wavpahuD\",\n",
        "    \"6‹ moÙpahuD\",\n",
        "    \"7‹ ilHgpahuD\",\n",
        "    \"8‹ xIlpahuD\"\n",
        "]\n",
        "\n",
        "# Load the PDF\n",
        "doc = fitz.open(pdf_file)\n",
        "\n",
        "# Step 1: Find chapter start pages\n",
        "chapter_starts = []\n",
        "for page_num in range(len(doc)):\n",
        "    text = doc[page_num].get_text()\n",
        "    for title in chapter_titles:\n",
        "        if title in text and title not in [t[1] for t in chapter_starts]:\n",
        "            chapter_starts.append((page_num, title))\n",
        "chapter_starts.append((len(doc), \"END\"))  # Final boundary\n",
        "\n",
        "# Step 2: Extract summaries\n",
        "print(\"📘 Chapter Summaries (Hindi):\")\n",
        "print(\"-\" * 50)\n",
        "\n",
        "for i in range(len(chapter_starts) - 1):\n",
        "    start_page = chapter_starts[i][0]\n",
        "    end_page = chapter_starts[i + 1][0]\n",
        "    title = chapter_starts[i][1]\n",
        "\n",
        "    # Extract full text between these pages\n",
        "    text = \"\"\n",
        "    for p in range(start_page, end_page):\n",
        "        text += doc[p].get_text()\n",
        "\n",
        "    # Get the first 5 lines as summary\n",
        "    lines = text.strip().splitlines()\n",
        "    summary = \"\\n\".join(lines[:5])  # You can increase line count here\n",
        "\n",
        "    print(f\"\\n📖 {title}\")\n",
        "    print(\"-\" * len(title))\n",
        "    print(summary)"
      ],
      "metadata": {
        "colab": {
          "base_uri": "https://localhost:8080/"
        },
        "id": "WPgnqcVokKDM",
        "outputId": "37bb66b9-9f32-4266-fb74-15db5f562285"
      },
      "execution_count": 8,
      "outputs": [
        {
          "output_type": "stream",
          "name": "stdout",
          "text": [
            "📘 Chapter Summaries (Hindi):\n",
            "--------------------------------------------------\n",
            "\n",
            "📖 1‹ dxRnpahuD\n",
            "------------\n",
            "Version 003: remember to check http://www.AtmaDharma.com for updates \n",
            " \n",
            " \n",
            " \n",
            " \n",
            "\n",
            "📖 2‹ sUZ pahuD\n",
            "------------\n",
            "Version 003: remember to check http://www.AtmaDharma.com for updates \n",
            " \n",
            " \n",
            " \n",
            " \n",
            "\n",
            "📖 3‹ cairZpahuD\n",
            "-------------\n",
            "Version 003: remember to check http://www.AtmaDharma.com for updates \n",
            " \n",
            " \n",
            " \n",
            " \n",
            "\n",
            "📖 4‹ bo\\pahuD\n",
            "-----------\n",
            "Version 003: remember to check http://www.AtmaDharma.com for updates \n",
            " \n",
            " \n",
            " iv*ay \n",
            "p<*@\n",
            "\n",
            "📖 5‹ wavpahuD\n",
            "-----------\n",
            "Version 003: remember to check http://www.AtmaDharma.com for updates \n",
            " \n",
            " \n",
            " \n",
            " \n",
            "\n",
            "📖 6‹ moÙpahuD\n",
            "-----------\n",
            "Version 003: remember to check http://www.AtmaDharma.com for updates \n",
            " \n",
            " \n",
            " \n",
            " \n",
            "\n",
            "📖 7‹ ilHgpahuD\n",
            "------------\n",
            "\n",
            "\n",
            "📖 8‹ xIlpahuD\n",
            "-----------\n",
            "Version 003: remember to check http://www.AtmaDharma.com for updates \n",
            " \n",
            " \n",
            " \n",
            " \n"
          ]
        }
      ]
    }
  ]
}