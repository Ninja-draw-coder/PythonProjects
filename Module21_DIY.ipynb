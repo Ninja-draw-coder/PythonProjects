{
  "nbformat": 4,
  "nbformat_minor": 0,
  "metadata": {
    "colab": {
      "provenance": [],
      "authorship_tag": "ABX9TyPECNd9M5RocfnFwujnol6W",
      "include_colab_link": true
    },
    "kernelspec": {
      "name": "python3",
      "display_name": "Python 3"
    },
    "language_info": {
      "name": "python"
    }
  },
  "cells": [
    {
      "cell_type": "markdown",
      "metadata": {
        "id": "view-in-github",
        "colab_type": "text"
      },
      "source": [
        "<a href=\"https://colab.research.google.com/github/Ninja-draw-coder/PythonProjects/blob/main/Module21_DIY.ipynb\" target=\"_parent\"><img src=\"https://colab.research.google.com/assets/colab-badge.svg\" alt=\"Open In Colab\"/></a>"
      ]
    },
    {
      "cell_type": "code",
      "execution_count": 10,
      "metadata": {
        "colab": {
          "base_uri": "https://localhost:8080/"
        },
        "id": "2m4KRLDrVall",
        "outputId": "d1b1a349-7df4-48ce-8c98-931df6dca496"
      },
      "outputs": [
        {
          "output_type": "stream",
          "name": "stdout",
          "text": [
            "      fixed acidity  volatile acidity  citric acid  residual sugar  chlorides  \\\n",
            "0               7.4             0.700         0.00             1.9      0.076   \n",
            "1               7.8             0.880         0.00             2.6      0.098   \n",
            "2               7.8             0.760         0.04             2.3      0.092   \n",
            "3              11.2             0.280         0.56             1.9      0.075   \n",
            "4               7.4             0.700         0.00             1.9      0.076   \n",
            "...             ...               ...          ...             ...        ...   \n",
            "1594            6.2             0.600         0.08             2.0      0.090   \n",
            "1595            5.9             0.550         0.10             2.2      0.062   \n",
            "1596            6.3             0.510         0.13             2.3      0.076   \n",
            "1597            5.9             0.645         0.12             2.0      0.075   \n",
            "1598            6.0             0.310         0.47             3.6      0.067   \n",
            "\n",
            "      free sulfur dioxide  total sulfur dioxide  density    pH  sulphates  \\\n",
            "0                    11.0                  34.0  0.99780  3.51       0.56   \n",
            "1                    25.0                  67.0  0.99680  3.20       0.68   \n",
            "2                    15.0                  54.0  0.99700  3.26       0.65   \n",
            "3                    17.0                  60.0  0.99800  3.16       0.58   \n",
            "4                    11.0                  34.0  0.99780  3.51       0.56   \n",
            "...                   ...                   ...      ...   ...        ...   \n",
            "1594                 32.0                  44.0  0.99490  3.45       0.58   \n",
            "1595                 39.0                  51.0  0.99512  3.52       0.76   \n",
            "1596                 29.0                  40.0  0.99574  3.42       0.75   \n",
            "1597                 32.0                  44.0  0.99547  3.57       0.71   \n",
            "1598                 18.0                  42.0  0.99549  3.39       0.66   \n",
            "\n",
            "      alcohol  quality  \n",
            "0         9.4        5  \n",
            "1         9.8        5  \n",
            "2         9.8        5  \n",
            "3         9.8        6  \n",
            "4         9.4        5  \n",
            "...       ...      ...  \n",
            "1594     10.5        5  \n",
            "1595     11.2        6  \n",
            "1596     11.0        6  \n",
            "1597     10.2        5  \n",
            "1598     11.0        6  \n",
            "\n",
            "[1599 rows x 12 columns]\n",
            "Total wines with quality 7 or 8: 217\n",
            "\n",
            "Selected sample of 10 bottles:\n",
            "      alcohol  quality\n",
            "1459     11.9        7\n",
            "1549     11.4        8\n",
            "1008     12.0        7\n",
            "1157     12.9        7\n",
            "265      10.2        7\n",
            "942      10.0        7\n",
            "1192     12.4        7\n",
            "588      14.0        8\n",
            "1466     10.0        7\n",
            "1010     12.3        7\n",
            "\n",
            "Alcohol level compliance check (>11.3%):\n",
            "      alcohol  quality  compliant\n",
            "1459     11.9        7       True\n",
            "1549     11.4        8       True\n",
            "1008     12.0        7       True\n",
            "1157     12.9        7       True\n",
            "265      10.2        7      False\n",
            "942      10.0        7      False\n",
            "1192     12.4        7       True\n",
            "588      14.0        8       True\n",
            "1466     10.0        7      False\n",
            "1010     12.3        7       True\n",
            "\n",
            "Number of compliant bottles: 7 out of 10\n",
            "Percentage of compliant bottles: 70.0%\n"
          ]
        }
      ],
      "source": [
        "'''*A wine can be labeled as quality \"7\" and above only if the alcohol level is greater\n",
        "than 11.3%. If the level of alcohol is high, then the will taste sour enough; if the\n",
        "alcohol level is less than 11.3%, the wine might taste bitter. The quality control\n",
        "person is only allowed to open ten bottles from a batch of wine with quality \"7\"\n",
        "& \"8\" to ensure the levels are sufficient.\n",
        "Load the “winequality-red.csv” data into a DataFrame and [erform following\n",
        "tasks:'''\n",
        "\n",
        "import pandas as pd\n",
        "import numpy as np\n",
        "\n",
        "# Load the wine quality dataset\n",
        "wine_data = pd.read_csv(\"winequality-red.csv\")\n",
        "\n",
        "# Filter for wines with quality 7 or 8\n",
        "high_quality_wines = wine_data[wine_data[\"quality\"].isin([7, 8])]\n",
        "\n",
        "# Set a seed for reproducibility\n",
        "np.random.seed(42)\n",
        "\n",
        "# Select a random sample of 10 bottles\n",
        "sample_indices = np.random.choice(high_quality_wines.index, size=10, replace=False)\n",
        "wine_sample = wine_data.loc[sample_indices]\n",
        "\n",
        "print(f\"Total wines with quality 7 or 8: {len(high_quality_wines)}\")\n",
        "print(\"\\nSelected sample of 10 bottles:\")\n",
        "print(wine_sample[['alcohol', 'quality']])\n",
        "\n",
        "# Check if the alcohol levels meet the criterion (>11.3%)\n",
        "compliance = wine_sample['alcohol'] > 11.3\n",
        "print(\"\\nAlcohol level compliance check (>11.3%):\")\n",
        "print(wine_sample[['alcohol', 'quality']].assign(compliant=compliance))\n",
        "\n",
        "# Summary statistics\n",
        "print(f\"\\nNumber of compliant bottles: {compliance.sum()} out of 10\")\n",
        "print(f\"Percentage of compliant bottles: {compliance.mean()*100:.1f}%\")"
      ]
    }
  ]
}