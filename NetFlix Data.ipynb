{
  "nbformat": 4,
  "nbformat_minor": 0,
  "metadata": {
    "colab": {
      "provenance": [],
      "authorship_tag": "ABX9TyNYah5L+oVJvywZrPUJWHQx",
      "include_colab_link": true
    },
    "kernelspec": {
      "name": "python3",
      "display_name": "Python 3"
    },
    "language_info": {
      "name": "python"
    }
  },
  "cells": [
    {
      "cell_type": "markdown",
      "metadata": {
        "id": "view-in-github",
        "colab_type": "text"
      },
      "source": [
        "<a href=\"https://colab.research.google.com/github/Ninja-draw-coder/PythonProjects/blob/main/NetFlix%20Data.ipynb\" target=\"_parent\"><img src=\"https://colab.research.google.com/assets/colab-badge.svg\" alt=\"Open In Colab\"/></a>"
      ]
    },
    {
      "cell_type": "code",
      "execution_count": 24,
      "metadata": {
        "colab": {
          "base_uri": "https://localhost:8080/",
          "height": 391
        },
        "id": "BZDyWdRKUHMJ",
        "outputId": "5291ef60-01e9-49a6-cfc1-e90921126a99"
      },
      "outputs": [
        {
          "output_type": "stream",
          "name": "stdout",
          "text": [
            "\n",
            "Null values in each column:\n"
          ]
        },
        {
          "output_type": "error",
          "ename": "TypeError",
          "evalue": "first argument must be an iterable of pandas objects, you passed an object of type \"Series\"",
          "traceback": [
            "\u001b[0;31m---------------------------------------------------------------------------\u001b[0m",
            "\u001b[0;31mTypeError\u001b[0m                                 Traceback (most recent call last)",
            "\u001b[0;32m<ipython-input-24-fc5dde44196e>\u001b[0m in \u001b[0;36m<cell line: 0>\u001b[0;34m()\u001b[0m\n\u001b[1;32m     71\u001b[0m \u001b[0;31m# replacing na values in columns\u001b[0m\u001b[0;34m\u001b[0m\u001b[0;34m\u001b[0m\u001b[0m\n\u001b[1;32m     72\u001b[0m \u001b[0mnewdf\u001b[0m \u001b[0;34m=\u001b[0m \u001b[0mpd\u001b[0m\u001b[0;34m.\u001b[0m\u001b[0mDataFrame\u001b[0m\u001b[0;34m(\u001b[0m\u001b[0mnetflix_df\u001b[0m\u001b[0;34m[\u001b[0m\u001b[0;34m\"actor_name\"\u001b[0m\u001b[0;34m]\u001b[0m\u001b[0;34m.\u001b[0m\u001b[0mdropna\u001b[0m\u001b[0;34m(\u001b[0m\u001b[0;34m)\u001b[0m\u001b[0;34m)\u001b[0m\u001b[0;34m\u001b[0m\u001b[0;34m\u001b[0m\u001b[0m\n\u001b[0;32m---> 73\u001b[0;31m \u001b[0mnewdf\u001b[0m \u001b[0;34m=\u001b[0m \u001b[0mpd\u001b[0m\u001b[0;34m.\u001b[0m\u001b[0mconcat\u001b[0m\u001b[0;34m(\u001b[0m\u001b[0mnetflix_df\u001b[0m\u001b[0;34m[\u001b[0m\u001b[0;34m\"ratings\"\u001b[0m\u001b[0;34m]\u001b[0m\u001b[0;34m.\u001b[0m\u001b[0mdropna\u001b[0m\u001b[0;34m(\u001b[0m\u001b[0;34m)\u001b[0m\u001b[0;34m)\u001b[0m\u001b[0;34m\u001b[0m\u001b[0;34m\u001b[0m\u001b[0m\n\u001b[0m\u001b[1;32m     74\u001b[0m \u001b[0;31m#newdf = newdf.concate(netflix_df[\"movie_title\"].fillna(\"No Title\"))\u001b[0m\u001b[0;34m\u001b[0m\u001b[0;34m\u001b[0m\u001b[0m\n\u001b[1;32m     75\u001b[0m \u001b[0;31m#newdf = netflix_df[\"movie_title\"].fillna(\"No Title\")\u001b[0m\u001b[0;34m\u001b[0m\u001b[0;34m\u001b[0m\u001b[0m\n",
            "\u001b[0;32m/usr/local/lib/python3.11/dist-packages/pandas/core/reshape/concat.py\u001b[0m in \u001b[0;36mconcat\u001b[0;34m(objs, axis, join, ignore_index, keys, levels, names, verify_integrity, sort, copy)\u001b[0m\n\u001b[1;32m    380\u001b[0m         \u001b[0mcopy\u001b[0m \u001b[0;34m=\u001b[0m \u001b[0;32mFalse\u001b[0m\u001b[0;34m\u001b[0m\u001b[0;34m\u001b[0m\u001b[0m\n\u001b[1;32m    381\u001b[0m \u001b[0;34m\u001b[0m\u001b[0m\n\u001b[0;32m--> 382\u001b[0;31m     op = _Concatenator(\n\u001b[0m\u001b[1;32m    383\u001b[0m         \u001b[0mobjs\u001b[0m\u001b[0;34m,\u001b[0m\u001b[0;34m\u001b[0m\u001b[0;34m\u001b[0m\u001b[0m\n\u001b[1;32m    384\u001b[0m         \u001b[0maxis\u001b[0m\u001b[0;34m=\u001b[0m\u001b[0maxis\u001b[0m\u001b[0;34m,\u001b[0m\u001b[0;34m\u001b[0m\u001b[0;34m\u001b[0m\u001b[0m\n",
            "\u001b[0;32m/usr/local/lib/python3.11/dist-packages/pandas/core/reshape/concat.py\u001b[0m in \u001b[0;36m__init__\u001b[0;34m(self, objs, axis, join, keys, levels, names, ignore_index, verify_integrity, copy, sort)\u001b[0m\n\u001b[1;32m    417\u001b[0m     ) -> None:\n\u001b[1;32m    418\u001b[0m         \u001b[0;32mif\u001b[0m \u001b[0misinstance\u001b[0m\u001b[0;34m(\u001b[0m\u001b[0mobjs\u001b[0m\u001b[0;34m,\u001b[0m \u001b[0;34m(\u001b[0m\u001b[0mABCSeries\u001b[0m\u001b[0;34m,\u001b[0m \u001b[0mABCDataFrame\u001b[0m\u001b[0;34m,\u001b[0m \u001b[0mstr\u001b[0m\u001b[0;34m)\u001b[0m\u001b[0;34m)\u001b[0m\u001b[0;34m:\u001b[0m\u001b[0;34m\u001b[0m\u001b[0;34m\u001b[0m\u001b[0m\n\u001b[0;32m--> 419\u001b[0;31m             raise TypeError(\n\u001b[0m\u001b[1;32m    420\u001b[0m                 \u001b[0;34m\"first argument must be an iterable of pandas \"\u001b[0m\u001b[0;34m\u001b[0m\u001b[0;34m\u001b[0m\u001b[0m\n\u001b[1;32m    421\u001b[0m                 \u001b[0;34mf'objects, you passed an object of type \"{type(objs).__name__}\"'\u001b[0m\u001b[0;34m\u001b[0m\u001b[0;34m\u001b[0m\u001b[0m\n",
            "\u001b[0;31mTypeError\u001b[0m: first argument must be an iterable of pandas objects, you passed an object of type \"Series\""
          ]
        }
      ],
      "source": [
        "#Netflix Dataset with Duplicates and Nulls\n",
        "\n",
        "import pandas as pd\n",
        "import numpy as np\n",
        "\n",
        "# Create a sample Netflix dataset\n",
        "data = {\n",
        "    'movie_title': [\n",
        "        'The Irishman',\n",
        "        'Marriage Story',\n",
        "        'Roma',\n",
        "        'Bird Box',\n",
        "        'The Irishman',  # Duplicate entry\n",
        "        'Extraction',\n",
        "        'The Platform',\n",
        "        'Murder Mystery',\n",
        "        'The Two Popes',\n",
        "        'Roma',  # Duplicate entry\n",
        "        'Spenser Confidential',\n",
        "        None,  # Null value\n",
        "        'The Old Guard',\n",
        "        'Triple Frontier',\n",
        "        '6 Underground'\n",
        "    ],\n",
        "    'ratings': [\n",
        "        7.8,\n",
        "        8.0,\n",
        "        7.7,\n",
        "        6.6,\n",
        "        7.8,  # Duplicate rating for duplicate movie\n",
        "        6.7,\n",
        "        7.0,\n",
        "        None,  # Null value\n",
        "        7.6,\n",
        "        7.7,  # Duplicate rating for duplicate movie\n",
        "        6.2,\n",
        "        5.9,\n",
        "        6.7,\n",
        "        None,  # Null value\n",
        "        6.1\n",
        "    ],\n",
        "    'actor_name': [\n",
        "        'Robert De Niro',\n",
        "        'Adam Driver',\n",
        "        'Yalitza Aparicio',\n",
        "        'Sandra Bullock',\n",
        "        'Al Pacino',  # Different actor for duplicate movie\n",
        "        'Chris Hemsworth',\n",
        "        'Ivan Massagué',\n",
        "        'Adam Sandler',\n",
        "        'Anthony Hopkins',\n",
        "        None,  # Null value for duplicate movie\n",
        "        'Mark Wahlberg',\n",
        "        'Will Ferrell',\n",
        "        'Charlize Theron',\n",
        "        'Ben Affleck',\n",
        "        'Ryan Reynolds'\n",
        "    ]\n",
        "}\n",
        "\n",
        "# Create the DataFrame\n",
        "netflix_df = pd.DataFrame(data)\n",
        "\n",
        "# Display the DataFrame\n",
        "#print(netflix_df)\n",
        "\n",
        "# Check for nulls\n",
        "print(\"\\nNull values in each column:\")\n",
        "#print(netflix_df.isnull())\n",
        "\n",
        "# replacing na values in columns\n",
        "newdf = pd.DataFrame(netflix_df[\"actor_name\"].dropna())\n",
        "newdf = pd.concat(netflix_df[\"ratings\"].dropna())\n",
        "#newdf = newdf.concate(netflix_df[\"movie_title\"].fillna(\"No Title\"))\n",
        "#newdf = netflix_df[\"movie_title\"].fillna(\"No Title\")\n",
        "print(\"\\n DataFrame After replacing null values:\")\n",
        "print(newdf)\n",
        "\n",
        "# Check for duplicates\n",
        "print(\"\\nDuplicate movie titles:\")\n",
        "#print(netflix_df[netflix_df.duplicated(subset=['movie_title'], keep=False)])\n",
        "#print(netflix_df['movie_title'].unique())"
      ]
    }
  ]
}