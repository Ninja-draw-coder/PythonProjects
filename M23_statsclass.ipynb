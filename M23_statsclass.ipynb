{
  "nbformat": 4,
  "nbformat_minor": 0,
  "metadata": {
    "colab": {
      "provenance": [],
      "include_colab_link": true
    },
    "kernelspec": {
      "name": "python3",
      "display_name": "Python 3"
    },
    "language_info": {
      "name": "python"
    }
  },
  "cells": [
    {
      "cell_type": "markdown",
      "metadata": {
        "id": "view-in-github",
        "colab_type": "text"
      },
      "source": [
        "<a href=\"https://colab.research.google.com/github/Ninja-draw-coder/PythonProjects/blob/main/M23_statsclass.ipynb\" target=\"_parent\"><img src=\"https://colab.research.google.com/assets/colab-badge.svg\" alt=\"Open In Colab\"/></a>"
      ]
    },
    {
      "cell_type": "code",
      "execution_count": null,
      "metadata": {
        "colab": {
          "base_uri": "https://localhost:8080/"
        },
        "id": "3v9LEnpRBwnQ",
        "outputId": "26e98615-e0c2-4e35-d457-bd5c19045621"
      },
      "outputs": [
        {
          "output_type": "stream",
          "name": "stdout",
          "text": [
            "Z-Score :  -2.12\n",
            "P-Value :  0.03\n",
            "Reject the null hypothesis\n"
          ]
        }
      ],
      "source": [
        "from scipy.stats import norm\n",
        "import math\n",
        "\n",
        "#Given data\n",
        "sample_mean = 167\n",
        "population_mean = 170\n",
        "population_std = 10\n",
        "n = 50\n",
        "\n",
        "#Z-test formula\n",
        "z = (sample_mean - population_mean) / (population_std / math.sqrt(n))\n",
        "\n",
        "#p-value for two -tailed test\n",
        "p_value = 2*(1-norm.cdf(abs(z)))\n",
        "\n",
        "#Results\n",
        "print(\"Z-Score : \",round(z,2))\n",
        "print(\"P-Value : \",round(p_value,2))\n",
        "\n",
        "#Conclusion\n",
        "alpha = 0.05\n",
        "if p_value < alpha:\n",
        "    print(\"Reject the null hypothesis\")\n",
        "else:\n",
        "    print(\"Fail to reject the null hypothesis\")"
      ]
    },
    {
      "cell_type": "code",
      "source": [
        "#One-sample t-test\n",
        "\n",
        "from scipy.stats import ttest_1samp\n",
        "\n",
        "data = [65,67,85,78,98,56,87,34,56]\n",
        "\n",
        "p_mean = 70\n",
        "\n",
        "t_stat, P_val = ttest_1samp(data,p_mean)\n",
        "\n",
        "print(\"t-statistic : \",round(t_stat,2))\n",
        "print(\"P-Value : \",round(P_val,2))\n",
        "\n",
        "#Conclusion\n",
        "alpha = 0.05\n",
        "if P_val < alpha:\n",
        "    print(\"Reject the null hypothesis\")\n",
        "else:\n",
        "    print(\"Fail to reject the null hypothesis\")"
      ],
      "metadata": {
        "colab": {
          "base_uri": "https://localhost:8080/"
        },
        "id": "7fd6uIm9CJze",
        "outputId": "bade7863-d0f2-42ce-dca9-342cd988e181"
      },
      "execution_count": null,
      "outputs": [
        {
          "output_type": "stream",
          "name": "stdout",
          "text": [
            "t-statistic :  -0.07\n",
            "P-Value :  0.95\n",
            "Fail to reject the null hypothesis\n"
          ]
        }
      ]
    },
    {
      "cell_type": "code",
      "source": [
        "#chi-square of goodness of fit\n",
        "\n",
        "from scipy.stats import chisquare\n",
        "\n",
        "observed = [8,9,13,11,10,9]\n",
        "\n",
        "expected = [10,10,10,10,10,10]\n",
        "\n",
        "chi_stat, p_value = chisquare(observed,expected)\n",
        "\n",
        "print(\"Chi-square statistic : \",round(chi_stat,2))\n",
        "print(\"P-Value : \",round(p_value,2))\n",
        "\n",
        "if p_value < 0.05:\n",
        "    print(\"Reject the null hypothesis\")\n",
        "else:\n",
        "    print(\"Fail to reject the null hypothesis\")"
      ],
      "metadata": {
        "id": "_wCDLA6ZJ7Rj",
        "colab": {
          "base_uri": "https://localhost:8080/"
        },
        "outputId": "9918e976-c22f-4585-b5e9-2cc6295b1bb5"
      },
      "execution_count": null,
      "outputs": [
        {
          "output_type": "stream",
          "name": "stdout",
          "text": [
            "Chi-square statistic :  1.6\n",
            "P-Value :  0.9\n",
            "Fail to reject the null hypothesis\n"
          ]
        }
      ]
    },
    {
      "cell_type": "code",
      "source": [
        "#independence\n",
        "\n",
        "import numpy as np\n",
        "from scipy.stats import chi2_contingency\n",
        "\n",
        "data = np.array([[30,40],[20,40]])\n",
        "\n",
        "chi_stat, p_value, dof, expected = chi2_contingency(data)\n",
        "\n",
        "print(\"Chi-square statistic : \",round(chi_stat,2))\n",
        "print(\"P-Value : \",round(p_value,2))\n",
        "\n",
        "if p_value < 0.05:\n",
        "    print(\"Reject the null hypothesis\")\n",
        "else:\n",
        "    print(\"Fail to reject the null hypothesis\")"
      ],
      "metadata": {
        "colab": {
          "base_uri": "https://localhost:8080/"
        },
        "id": "YMiXD1jBRDf1",
        "outputId": "bfc8e7c7-4999-422b-e0c3-062522fa200a"
      },
      "execution_count": null,
      "outputs": [
        {
          "output_type": "stream",
          "name": "stdout",
          "text": [
            "Chi-square statistic :  0.87\n",
            "P-Value :  0.35\n",
            "Fail to reject the null hypothesis\n"
          ]
        }
      ]
    },
    {
      "cell_type": "code",
      "source": [
        "#P-value -> actual probability of getting a result as extreme as your sample, assuming null is true\n",
        "\n",
        "#Critical -> cutoff point that defines the boundary of the rejection region based on the chosen significance level"
      ],
      "metadata": {
        "id": "JUWEDeGZRrD7"
      },
      "execution_count": null,
      "outputs": []
    }
  ]
}